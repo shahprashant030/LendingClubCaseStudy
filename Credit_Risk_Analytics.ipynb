{
 "cells": [
  {
   "cell_type": "markdown",
   "id": "f7b1b03e",
   "metadata": {
    "id": "f7b1b03e"
   },
   "source": [
    "# Credit Risk Analytics"
   ]
  },
  {
   "cell_type": "markdown",
   "id": "cdf80a2d",
   "metadata": {
    "id": "cdf80a2d"
   },
   "source": [
    "This project involves an in-depth analysis of a loan dataset from a consumer finance company. It aim to identify patterns and factors that indicate whether a loan applicant is likely to default on the loan, enabling the lending company to make informed lending decisions and minimize credit loss."
   ]
  },
  {
   "cell_type": "markdown",
   "id": "efe7c2de",
   "metadata": {
    "id": "efe7c2de"
   },
   "source": [
    "## 1. Data Understanding"
   ]
  },
  {
   "cell_type": "markdown",
   "id": "ANNzunYWIsjh",
   "metadata": {
    "id": "ANNzunYWIsjh"
   },
   "source": [
    "### a. Reading the Dataset and Understanding the General Structure"
   ]
  },
  {
   "cell_type": "code",
   "execution_count": 742,
   "id": "ab09b2b5",
   "metadata": {
    "id": "ab09b2b5"
   },
   "outputs": [],
   "source": [
    "#Importing essential libraries\n",
    "import pandas as pd\n",
    "import numpy as np\n",
    "import seaborn as sns\n",
    "import matplotlib.pyplot as plt"
   ]
  },
  {
   "cell_type": "code",
   "execution_count": 743,
   "id": "5d193428",
   "metadata": {
    "colab": {
     "base_uri": "https://localhost:8080/"
    },
    "id": "5d193428",
    "outputId": "d02bb9e8-20d3-4f07-aa75-7e9f6daf8139"
   },
   "outputs": [
    {
     "name": "stderr",
     "output_type": "stream",
     "text": [
      "C:\\Users\\shahp\\AppData\\Local\\Temp\\ipykernel_17148\\4158003575.py:2: DtypeWarning: Columns (47) have mixed types. Specify dtype option on import or set low_memory=False.\n",
      "  original_df = pd.read_csv(\"loan.csv\")\n"
     ]
    }
   ],
   "source": [
    "# Reading the dataset into a DataFrame\n",
    "original_df = pd.read_csv(\"loan.csv\")"
   ]
  },
  {
   "cell_type": "markdown",
   "id": "5a9d9731",
   "metadata": {},
   "source": [
    "The warning is due to Column (47) have mixed data types. That need to be considered in Data cleaning process "
   ]
  },
  {
   "cell_type": "code",
   "execution_count": 744,
   "id": "9cff4447",
   "metadata": {
    "colab": {
     "base_uri": "https://localhost:8080/",
     "height": 342
    },
    "id": "9cff4447",
    "outputId": "f3cbe7bc-9f44-49ef-dcf9-f6f18c61098e",
    "scrolled": true
   },
   "outputs": [
    {
     "data": {
      "text/html": [
       "<div>\n",
       "<style scoped>\n",
       "    .dataframe tbody tr th:only-of-type {\n",
       "        vertical-align: middle;\n",
       "    }\n",
       "\n",
       "    .dataframe tbody tr th {\n",
       "        vertical-align: top;\n",
       "    }\n",
       "\n",
       "    .dataframe thead th {\n",
       "        text-align: right;\n",
       "    }\n",
       "</style>\n",
       "<table border=\"1\" class=\"dataframe\">\n",
       "  <thead>\n",
       "    <tr style=\"text-align: right;\">\n",
       "      <th></th>\n",
       "      <th>id</th>\n",
       "      <th>member_id</th>\n",
       "      <th>loan_amnt</th>\n",
       "      <th>funded_amnt</th>\n",
       "      <th>funded_amnt_inv</th>\n",
       "      <th>term</th>\n",
       "      <th>int_rate</th>\n",
       "      <th>installment</th>\n",
       "      <th>grade</th>\n",
       "      <th>sub_grade</th>\n",
       "      <th>...</th>\n",
       "      <th>num_tl_90g_dpd_24m</th>\n",
       "      <th>num_tl_op_past_12m</th>\n",
       "      <th>pct_tl_nvr_dlq</th>\n",
       "      <th>percent_bc_gt_75</th>\n",
       "      <th>pub_rec_bankruptcies</th>\n",
       "      <th>tax_liens</th>\n",
       "      <th>tot_hi_cred_lim</th>\n",
       "      <th>total_bal_ex_mort</th>\n",
       "      <th>total_bc_limit</th>\n",
       "      <th>total_il_high_credit_limit</th>\n",
       "    </tr>\n",
       "  </thead>\n",
       "  <tbody>\n",
       "    <tr>\n",
       "      <th>0</th>\n",
       "      <td>1077501</td>\n",
       "      <td>1296599</td>\n",
       "      <td>5000</td>\n",
       "      <td>5000</td>\n",
       "      <td>4975.0</td>\n",
       "      <td>36 months</td>\n",
       "      <td>10.65%</td>\n",
       "      <td>162.87</td>\n",
       "      <td>B</td>\n",
       "      <td>B2</td>\n",
       "      <td>...</td>\n",
       "      <td>NaN</td>\n",
       "      <td>NaN</td>\n",
       "      <td>NaN</td>\n",
       "      <td>NaN</td>\n",
       "      <td>0.0</td>\n",
       "      <td>0.0</td>\n",
       "      <td>NaN</td>\n",
       "      <td>NaN</td>\n",
       "      <td>NaN</td>\n",
       "      <td>NaN</td>\n",
       "    </tr>\n",
       "    <tr>\n",
       "      <th>1</th>\n",
       "      <td>1077430</td>\n",
       "      <td>1314167</td>\n",
       "      <td>2500</td>\n",
       "      <td>2500</td>\n",
       "      <td>2500.0</td>\n",
       "      <td>60 months</td>\n",
       "      <td>15.27%</td>\n",
       "      <td>59.83</td>\n",
       "      <td>C</td>\n",
       "      <td>C4</td>\n",
       "      <td>...</td>\n",
       "      <td>NaN</td>\n",
       "      <td>NaN</td>\n",
       "      <td>NaN</td>\n",
       "      <td>NaN</td>\n",
       "      <td>0.0</td>\n",
       "      <td>0.0</td>\n",
       "      <td>NaN</td>\n",
       "      <td>NaN</td>\n",
       "      <td>NaN</td>\n",
       "      <td>NaN</td>\n",
       "    </tr>\n",
       "    <tr>\n",
       "      <th>2</th>\n",
       "      <td>1077175</td>\n",
       "      <td>1313524</td>\n",
       "      <td>2400</td>\n",
       "      <td>2400</td>\n",
       "      <td>2400.0</td>\n",
       "      <td>36 months</td>\n",
       "      <td>15.96%</td>\n",
       "      <td>84.33</td>\n",
       "      <td>C</td>\n",
       "      <td>C5</td>\n",
       "      <td>...</td>\n",
       "      <td>NaN</td>\n",
       "      <td>NaN</td>\n",
       "      <td>NaN</td>\n",
       "      <td>NaN</td>\n",
       "      <td>0.0</td>\n",
       "      <td>0.0</td>\n",
       "      <td>NaN</td>\n",
       "      <td>NaN</td>\n",
       "      <td>NaN</td>\n",
       "      <td>NaN</td>\n",
       "    </tr>\n",
       "    <tr>\n",
       "      <th>3</th>\n",
       "      <td>1076863</td>\n",
       "      <td>1277178</td>\n",
       "      <td>10000</td>\n",
       "      <td>10000</td>\n",
       "      <td>10000.0</td>\n",
       "      <td>36 months</td>\n",
       "      <td>13.49%</td>\n",
       "      <td>339.31</td>\n",
       "      <td>C</td>\n",
       "      <td>C1</td>\n",
       "      <td>...</td>\n",
       "      <td>NaN</td>\n",
       "      <td>NaN</td>\n",
       "      <td>NaN</td>\n",
       "      <td>NaN</td>\n",
       "      <td>0.0</td>\n",
       "      <td>0.0</td>\n",
       "      <td>NaN</td>\n",
       "      <td>NaN</td>\n",
       "      <td>NaN</td>\n",
       "      <td>NaN</td>\n",
       "    </tr>\n",
       "    <tr>\n",
       "      <th>4</th>\n",
       "      <td>1075358</td>\n",
       "      <td>1311748</td>\n",
       "      <td>3000</td>\n",
       "      <td>3000</td>\n",
       "      <td>3000.0</td>\n",
       "      <td>60 months</td>\n",
       "      <td>12.69%</td>\n",
       "      <td>67.79</td>\n",
       "      <td>B</td>\n",
       "      <td>B5</td>\n",
       "      <td>...</td>\n",
       "      <td>NaN</td>\n",
       "      <td>NaN</td>\n",
       "      <td>NaN</td>\n",
       "      <td>NaN</td>\n",
       "      <td>0.0</td>\n",
       "      <td>0.0</td>\n",
       "      <td>NaN</td>\n",
       "      <td>NaN</td>\n",
       "      <td>NaN</td>\n",
       "      <td>NaN</td>\n",
       "    </tr>\n",
       "  </tbody>\n",
       "</table>\n",
       "<p>5 rows × 111 columns</p>\n",
       "</div>"
      ],
      "text/plain": [
       "        id  member_id  loan_amnt  funded_amnt  funded_amnt_inv        term  \\\n",
       "0  1077501    1296599       5000         5000           4975.0   36 months   \n",
       "1  1077430    1314167       2500         2500           2500.0   60 months   \n",
       "2  1077175    1313524       2400         2400           2400.0   36 months   \n",
       "3  1076863    1277178      10000        10000          10000.0   36 months   \n",
       "4  1075358    1311748       3000         3000           3000.0   60 months   \n",
       "\n",
       "  int_rate  installment grade sub_grade  ... num_tl_90g_dpd_24m  \\\n",
       "0   10.65%       162.87     B        B2  ...                NaN   \n",
       "1   15.27%        59.83     C        C4  ...                NaN   \n",
       "2   15.96%        84.33     C        C5  ...                NaN   \n",
       "3   13.49%       339.31     C        C1  ...                NaN   \n",
       "4   12.69%        67.79     B        B5  ...                NaN   \n",
       "\n",
       "  num_tl_op_past_12m pct_tl_nvr_dlq  percent_bc_gt_75 pub_rec_bankruptcies  \\\n",
       "0                NaN            NaN               NaN                  0.0   \n",
       "1                NaN            NaN               NaN                  0.0   \n",
       "2                NaN            NaN               NaN                  0.0   \n",
       "3                NaN            NaN               NaN                  0.0   \n",
       "4                NaN            NaN               NaN                  0.0   \n",
       "\n",
       "  tax_liens tot_hi_cred_lim total_bal_ex_mort total_bc_limit  \\\n",
       "0       0.0             NaN               NaN            NaN   \n",
       "1       0.0             NaN               NaN            NaN   \n",
       "2       0.0             NaN               NaN            NaN   \n",
       "3       0.0             NaN               NaN            NaN   \n",
       "4       0.0             NaN               NaN            NaN   \n",
       "\n",
       "  total_il_high_credit_limit  \n",
       "0                        NaN  \n",
       "1                        NaN  \n",
       "2                        NaN  \n",
       "3                        NaN  \n",
       "4                        NaN  \n",
       "\n",
       "[5 rows x 111 columns]"
      ]
     },
     "execution_count": 744,
     "metadata": {},
     "output_type": "execute_result"
    }
   ],
   "source": [
    "#Displaying first 5 rows of the dataframe\n",
    "original_df.head()"
   ]
  },
  {
   "cell_type": "markdown",
   "id": "7269ef95",
   "metadata": {},
   "source": [
    "Here we can see first 5 rows of dataset and can observe there are lots of missing values.<br>\n",
    "That also need to be considered during data cleaning process"
   ]
  },
  {
   "cell_type": "code",
   "execution_count": 745,
   "id": "a6890ff4",
   "metadata": {
    "colab": {
     "base_uri": "https://localhost:8080/"
    },
    "id": "a6890ff4",
    "outputId": "7a94a69a-dc19-46bc-ab08-530ae6829df7",
    "scrolled": true
   },
   "outputs": [
    {
     "name": "stdout",
     "output_type": "stream",
     "text": [
      "<class 'pandas.core.frame.DataFrame'>\n",
      "RangeIndex: 39717 entries, 0 to 39716\n",
      "Columns: 111 entries, id to total_il_high_credit_limit\n",
      "dtypes: float64(74), int64(13), object(24)\n",
      "memory usage: 33.6+ MB\n"
     ]
    }
   ],
   "source": [
    "# Viewing summary of dataframe structure\n",
    "original_df.info()"
   ]
  },
  {
   "cell_type": "code",
   "execution_count": 746,
   "id": "8cbe38d3",
   "metadata": {
    "colab": {
     "base_uri": "https://localhost:8080/"
    },
    "id": "8cbe38d3",
    "outputId": "35505301-b855-489d-ce12-2537a5341af6"
   },
   "outputs": [
    {
     "data": {
      "text/plain": [
       "(39717, 111)"
      ]
     },
     "execution_count": 746,
     "metadata": {},
     "output_type": "execute_result"
    }
   ],
   "source": [
    "# Shape of the dataframe\n",
    "original_df.shape"
   ]
  },
  {
   "cell_type": "code",
   "execution_count": 747,
   "id": "d7e46dcd",
   "metadata": {
    "colab": {
     "base_uri": "https://localhost:8080/"
    },
    "id": "d7e46dcd",
    "outputId": "ce2543ca-daaa-47df-9f06-869afb6b3645"
   },
   "outputs": [
    {
     "name": "stdout",
     "output_type": "stream",
     "text": [
      "Total number of columns: 39717\n",
      "Total number of rows: 111\n"
     ]
    }
   ],
   "source": [
    "# printing total number of rows and columns [i.e shape(rows, columns)]\n",
    "print(f\"Total number of columns: {original_df.shape[0]}\")\n",
    "print(f\"Total number of rows: {original_df.shape[1]}\")"
   ]
  },
  {
   "cell_type": "markdown",
   "id": "y8Xy30lDN-P9",
   "metadata": {
    "id": "y8Xy30lDN-P9"
   },
   "source": [
    "### b. Summary Statistics"
   ]
  },
  {
   "cell_type": "code",
   "execution_count": 748,
   "id": "7566fd90",
   "metadata": {
    "colab": {
     "base_uri": "https://localhost:8080/",
     "height": 350
    },
    "id": "7566fd90",
    "outputId": "6ecbd5a6-a391-46e8-f588-e1108c36790a",
    "scrolled": false
   },
   "outputs": [
    {
     "data": {
      "text/html": [
       "<div>\n",
       "<style scoped>\n",
       "    .dataframe tbody tr th:only-of-type {\n",
       "        vertical-align: middle;\n",
       "    }\n",
       "\n",
       "    .dataframe tbody tr th {\n",
       "        vertical-align: top;\n",
       "    }\n",
       "\n",
       "    .dataframe thead th {\n",
       "        text-align: right;\n",
       "    }\n",
       "</style>\n",
       "<table border=\"1\" class=\"dataframe\">\n",
       "  <thead>\n",
       "    <tr style=\"text-align: right;\">\n",
       "      <th></th>\n",
       "      <th>id</th>\n",
       "      <th>member_id</th>\n",
       "      <th>loan_amnt</th>\n",
       "      <th>funded_amnt</th>\n",
       "      <th>funded_amnt_inv</th>\n",
       "      <th>installment</th>\n",
       "      <th>annual_inc</th>\n",
       "      <th>dti</th>\n",
       "      <th>delinq_2yrs</th>\n",
       "      <th>inq_last_6mths</th>\n",
       "      <th>...</th>\n",
       "      <th>num_tl_90g_dpd_24m</th>\n",
       "      <th>num_tl_op_past_12m</th>\n",
       "      <th>pct_tl_nvr_dlq</th>\n",
       "      <th>percent_bc_gt_75</th>\n",
       "      <th>pub_rec_bankruptcies</th>\n",
       "      <th>tax_liens</th>\n",
       "      <th>tot_hi_cred_lim</th>\n",
       "      <th>total_bal_ex_mort</th>\n",
       "      <th>total_bc_limit</th>\n",
       "      <th>total_il_high_credit_limit</th>\n",
       "    </tr>\n",
       "  </thead>\n",
       "  <tbody>\n",
       "    <tr>\n",
       "      <th>count</th>\n",
       "      <td>3.971700e+04</td>\n",
       "      <td>3.971700e+04</td>\n",
       "      <td>39717.000000</td>\n",
       "      <td>39717.000000</td>\n",
       "      <td>39717.000000</td>\n",
       "      <td>39717.000000</td>\n",
       "      <td>3.971700e+04</td>\n",
       "      <td>39717.000000</td>\n",
       "      <td>39717.000000</td>\n",
       "      <td>39717.000000</td>\n",
       "      <td>...</td>\n",
       "      <td>0.0</td>\n",
       "      <td>0.0</td>\n",
       "      <td>0.0</td>\n",
       "      <td>0.0</td>\n",
       "      <td>39020.000000</td>\n",
       "      <td>39678.0</td>\n",
       "      <td>0.0</td>\n",
       "      <td>0.0</td>\n",
       "      <td>0.0</td>\n",
       "      <td>0.0</td>\n",
       "    </tr>\n",
       "    <tr>\n",
       "      <th>mean</th>\n",
       "      <td>6.831319e+05</td>\n",
       "      <td>8.504636e+05</td>\n",
       "      <td>11219.443815</td>\n",
       "      <td>10947.713196</td>\n",
       "      <td>10397.448868</td>\n",
       "      <td>324.561922</td>\n",
       "      <td>6.896893e+04</td>\n",
       "      <td>13.315130</td>\n",
       "      <td>0.146512</td>\n",
       "      <td>0.869200</td>\n",
       "      <td>...</td>\n",
       "      <td>NaN</td>\n",
       "      <td>NaN</td>\n",
       "      <td>NaN</td>\n",
       "      <td>NaN</td>\n",
       "      <td>0.043260</td>\n",
       "      <td>0.0</td>\n",
       "      <td>NaN</td>\n",
       "      <td>NaN</td>\n",
       "      <td>NaN</td>\n",
       "      <td>NaN</td>\n",
       "    </tr>\n",
       "    <tr>\n",
       "      <th>std</th>\n",
       "      <td>2.106941e+05</td>\n",
       "      <td>2.656783e+05</td>\n",
       "      <td>7456.670694</td>\n",
       "      <td>7187.238670</td>\n",
       "      <td>7128.450439</td>\n",
       "      <td>208.874874</td>\n",
       "      <td>6.379377e+04</td>\n",
       "      <td>6.678594</td>\n",
       "      <td>0.491812</td>\n",
       "      <td>1.070219</td>\n",
       "      <td>...</td>\n",
       "      <td>NaN</td>\n",
       "      <td>NaN</td>\n",
       "      <td>NaN</td>\n",
       "      <td>NaN</td>\n",
       "      <td>0.204324</td>\n",
       "      <td>0.0</td>\n",
       "      <td>NaN</td>\n",
       "      <td>NaN</td>\n",
       "      <td>NaN</td>\n",
       "      <td>NaN</td>\n",
       "    </tr>\n",
       "    <tr>\n",
       "      <th>min</th>\n",
       "      <td>5.473400e+04</td>\n",
       "      <td>7.069900e+04</td>\n",
       "      <td>500.000000</td>\n",
       "      <td>500.000000</td>\n",
       "      <td>0.000000</td>\n",
       "      <td>15.690000</td>\n",
       "      <td>4.000000e+03</td>\n",
       "      <td>0.000000</td>\n",
       "      <td>0.000000</td>\n",
       "      <td>0.000000</td>\n",
       "      <td>...</td>\n",
       "      <td>NaN</td>\n",
       "      <td>NaN</td>\n",
       "      <td>NaN</td>\n",
       "      <td>NaN</td>\n",
       "      <td>0.000000</td>\n",
       "      <td>0.0</td>\n",
       "      <td>NaN</td>\n",
       "      <td>NaN</td>\n",
       "      <td>NaN</td>\n",
       "      <td>NaN</td>\n",
       "    </tr>\n",
       "    <tr>\n",
       "      <th>25%</th>\n",
       "      <td>5.162210e+05</td>\n",
       "      <td>6.667800e+05</td>\n",
       "      <td>5500.000000</td>\n",
       "      <td>5400.000000</td>\n",
       "      <td>5000.000000</td>\n",
       "      <td>167.020000</td>\n",
       "      <td>4.040400e+04</td>\n",
       "      <td>8.170000</td>\n",
       "      <td>0.000000</td>\n",
       "      <td>0.000000</td>\n",
       "      <td>...</td>\n",
       "      <td>NaN</td>\n",
       "      <td>NaN</td>\n",
       "      <td>NaN</td>\n",
       "      <td>NaN</td>\n",
       "      <td>0.000000</td>\n",
       "      <td>0.0</td>\n",
       "      <td>NaN</td>\n",
       "      <td>NaN</td>\n",
       "      <td>NaN</td>\n",
       "      <td>NaN</td>\n",
       "    </tr>\n",
       "    <tr>\n",
       "      <th>50%</th>\n",
       "      <td>6.656650e+05</td>\n",
       "      <td>8.508120e+05</td>\n",
       "      <td>10000.000000</td>\n",
       "      <td>9600.000000</td>\n",
       "      <td>8975.000000</td>\n",
       "      <td>280.220000</td>\n",
       "      <td>5.900000e+04</td>\n",
       "      <td>13.400000</td>\n",
       "      <td>0.000000</td>\n",
       "      <td>1.000000</td>\n",
       "      <td>...</td>\n",
       "      <td>NaN</td>\n",
       "      <td>NaN</td>\n",
       "      <td>NaN</td>\n",
       "      <td>NaN</td>\n",
       "      <td>0.000000</td>\n",
       "      <td>0.0</td>\n",
       "      <td>NaN</td>\n",
       "      <td>NaN</td>\n",
       "      <td>NaN</td>\n",
       "      <td>NaN</td>\n",
       "    </tr>\n",
       "    <tr>\n",
       "      <th>75%</th>\n",
       "      <td>8.377550e+05</td>\n",
       "      <td>1.047339e+06</td>\n",
       "      <td>15000.000000</td>\n",
       "      <td>15000.000000</td>\n",
       "      <td>14400.000000</td>\n",
       "      <td>430.780000</td>\n",
       "      <td>8.230000e+04</td>\n",
       "      <td>18.600000</td>\n",
       "      <td>0.000000</td>\n",
       "      <td>1.000000</td>\n",
       "      <td>...</td>\n",
       "      <td>NaN</td>\n",
       "      <td>NaN</td>\n",
       "      <td>NaN</td>\n",
       "      <td>NaN</td>\n",
       "      <td>0.000000</td>\n",
       "      <td>0.0</td>\n",
       "      <td>NaN</td>\n",
       "      <td>NaN</td>\n",
       "      <td>NaN</td>\n",
       "      <td>NaN</td>\n",
       "    </tr>\n",
       "    <tr>\n",
       "      <th>max</th>\n",
       "      <td>1.077501e+06</td>\n",
       "      <td>1.314167e+06</td>\n",
       "      <td>35000.000000</td>\n",
       "      <td>35000.000000</td>\n",
       "      <td>35000.000000</td>\n",
       "      <td>1305.190000</td>\n",
       "      <td>6.000000e+06</td>\n",
       "      <td>29.990000</td>\n",
       "      <td>11.000000</td>\n",
       "      <td>8.000000</td>\n",
       "      <td>...</td>\n",
       "      <td>NaN</td>\n",
       "      <td>NaN</td>\n",
       "      <td>NaN</td>\n",
       "      <td>NaN</td>\n",
       "      <td>2.000000</td>\n",
       "      <td>0.0</td>\n",
       "      <td>NaN</td>\n",
       "      <td>NaN</td>\n",
       "      <td>NaN</td>\n",
       "      <td>NaN</td>\n",
       "    </tr>\n",
       "  </tbody>\n",
       "</table>\n",
       "<p>8 rows × 87 columns</p>\n",
       "</div>"
      ],
      "text/plain": [
       "                 id     member_id     loan_amnt   funded_amnt  \\\n",
       "count  3.971700e+04  3.971700e+04  39717.000000  39717.000000   \n",
       "mean   6.831319e+05  8.504636e+05  11219.443815  10947.713196   \n",
       "std    2.106941e+05  2.656783e+05   7456.670694   7187.238670   \n",
       "min    5.473400e+04  7.069900e+04    500.000000    500.000000   \n",
       "25%    5.162210e+05  6.667800e+05   5500.000000   5400.000000   \n",
       "50%    6.656650e+05  8.508120e+05  10000.000000   9600.000000   \n",
       "75%    8.377550e+05  1.047339e+06  15000.000000  15000.000000   \n",
       "max    1.077501e+06  1.314167e+06  35000.000000  35000.000000   \n",
       "\n",
       "       funded_amnt_inv   installment    annual_inc           dti  \\\n",
       "count     39717.000000  39717.000000  3.971700e+04  39717.000000   \n",
       "mean      10397.448868    324.561922  6.896893e+04     13.315130   \n",
       "std        7128.450439    208.874874  6.379377e+04      6.678594   \n",
       "min           0.000000     15.690000  4.000000e+03      0.000000   \n",
       "25%        5000.000000    167.020000  4.040400e+04      8.170000   \n",
       "50%        8975.000000    280.220000  5.900000e+04     13.400000   \n",
       "75%       14400.000000    430.780000  8.230000e+04     18.600000   \n",
       "max       35000.000000   1305.190000  6.000000e+06     29.990000   \n",
       "\n",
       "        delinq_2yrs  inq_last_6mths  ...  num_tl_90g_dpd_24m  \\\n",
       "count  39717.000000    39717.000000  ...                 0.0   \n",
       "mean       0.146512        0.869200  ...                 NaN   \n",
       "std        0.491812        1.070219  ...                 NaN   \n",
       "min        0.000000        0.000000  ...                 NaN   \n",
       "25%        0.000000        0.000000  ...                 NaN   \n",
       "50%        0.000000        1.000000  ...                 NaN   \n",
       "75%        0.000000        1.000000  ...                 NaN   \n",
       "max       11.000000        8.000000  ...                 NaN   \n",
       "\n",
       "       num_tl_op_past_12m  pct_tl_nvr_dlq  percent_bc_gt_75  \\\n",
       "count                 0.0             0.0               0.0   \n",
       "mean                  NaN             NaN               NaN   \n",
       "std                   NaN             NaN               NaN   \n",
       "min                   NaN             NaN               NaN   \n",
       "25%                   NaN             NaN               NaN   \n",
       "50%                   NaN             NaN               NaN   \n",
       "75%                   NaN             NaN               NaN   \n",
       "max                   NaN             NaN               NaN   \n",
       "\n",
       "       pub_rec_bankruptcies  tax_liens  tot_hi_cred_lim  total_bal_ex_mort  \\\n",
       "count          39020.000000    39678.0              0.0                0.0   \n",
       "mean               0.043260        0.0              NaN                NaN   \n",
       "std                0.204324        0.0              NaN                NaN   \n",
       "min                0.000000        0.0              NaN                NaN   \n",
       "25%                0.000000        0.0              NaN                NaN   \n",
       "50%                0.000000        0.0              NaN                NaN   \n",
       "75%                0.000000        0.0              NaN                NaN   \n",
       "max                2.000000        0.0              NaN                NaN   \n",
       "\n",
       "       total_bc_limit  total_il_high_credit_limit  \n",
       "count             0.0                         0.0  \n",
       "mean              NaN                         NaN  \n",
       "std               NaN                         NaN  \n",
       "min               NaN                         NaN  \n",
       "25%               NaN                         NaN  \n",
       "50%               NaN                         NaN  \n",
       "75%               NaN                         NaN  \n",
       "max               NaN                         NaN  \n",
       "\n",
       "[8 rows x 87 columns]"
      ]
     },
     "execution_count": 748,
     "metadata": {},
     "output_type": "execute_result"
    }
   ],
   "source": [
    "# Describing the statistical data of the numerical data of the dataframe\n",
    "original_df.describe()"
   ]
  },
  {
   "cell_type": "markdown",
   "id": "_ZQVdHkzOBzj",
   "metadata": {
    "id": "_ZQVdHkzOBzj"
   },
   "source": [
    "Different statistics can be observed like (mean, median, min, max, etc)<br>\n",
    "For few columns like loan_amnt, funded_amnt, it is quite understandable.<br>\n",
    "But for few columns like num_tl_op_past_12m, pct_tl_nvr_dlq, etc it is non understandable due to irrelavant data. Perhaps that can be cleared in data cleaning process by different strategies like dropping null, outliers etc"
   ]
  },
  {
   "cell_type": "markdown",
   "id": "l_7LDA_dI_6R",
   "metadata": {
    "id": "l_7LDA_dI_6R"
   },
   "source": [
    "### d. Missing values"
   ]
  },
  {
   "cell_type": "markdown",
   "id": "a93a4285",
   "metadata": {
    "id": "a93a4285"
   },
   "source": [
    "Since we can see lots of null values in our previous observations, let's check the occurance of null values in the dataframe"
   ]
  },
  {
   "cell_type": "code",
   "execution_count": 749,
   "id": "6125021e",
   "metadata": {},
   "outputs": [
    {
     "name": "stdout",
     "output_type": "stream",
     "text": [
      "Total number of missing values in the DataFrame: 2263364\n"
     ]
    }
   ],
   "source": [
    "#Calculating total number of missing values(null/NaN)\n",
    "print(\"Total number of missing values in the DataFrame:\", original_df.isnull().sum().sum())"
   ]
  },
  {
   "cell_type": "code",
   "execution_count": 750,
   "id": "2bbb76e8",
   "metadata": {
    "id": "2bbb76e8",
    "scrolled": true
   },
   "outputs": [
    {
     "name": "stdout",
     "output_type": "stream",
     "text": [
      "Number of columns with all null values: 54\n",
      "Number of columns with at least one null values: 68\n"
     ]
    }
   ],
   "source": [
    "#Calculating the number of columns with all null values\n",
    "num_columns_with_all_null = original_df.isnull().all().sum()\n",
    "print(f\"Number of columns with all null values: {num_columns_with_all_null}\")\n",
    "\n",
    "# Calculating the number of columns with at least one null values\n",
    "num_columns_with_missing_values = original_df.columns[original_df.isnull().any()].nunique()\n",
    "print(f\"Number of columns with at least one null values: {num_columns_with_missing_values}\")"
   ]
  },
  {
   "cell_type": "markdown",
   "id": "bJ7jT1CtU-ol",
   "metadata": {
    "id": "bJ7jT1CtU-ol"
   },
   "source": [
    "We have checked all the missing values in the dataset. <br>\n",
    "- Columns with all null values must be dropped. <br>\n",
    "- For columns with at least one null value, we should consider the threshold. <br>\n",
    "    Columns with null values exceeding the threshold should be dropped, while those not exceeding the threshold should be considered for options such as imputation or removing rows with null values."
   ]
  },
  {
   "cell_type": "markdown",
   "id": "TxJN4WezWXiG",
   "metadata": {
    "id": "TxJN4WezWXiG"
   },
   "source": [
    "### e. Consistent Values"
   ]
  },
  {
   "cell_type": "markdown",
   "id": "4b2161d8",
   "metadata": {},
   "source": [
    "Let's see the columns where all the values are *zero/same* i.e. `consistent values`"
   ]
  },
  {
   "cell_type": "code",
   "execution_count": 751,
   "id": "WeUK_JIvWbkt",
   "metadata": {
    "colab": {
     "base_uri": "https://localhost:8080/"
    },
    "id": "WeUK_JIvWbkt",
    "outputId": "942233e5-f727-476c-aed4-45dfaea805c3"
   },
   "outputs": [
    {
     "name": "stdout",
     "output_type": "stream",
     "text": [
      "Column: 'pymnt_plan' --> n\n",
      "Column: 'initial_list_status' --> f\n",
      "Column: 'collections_12_mths_ex_med' --> 0.0\n",
      "Column: 'policy_code' --> 1\n",
      "Column: 'application_type' --> INDIVIDUAL\n",
      "Column: 'acc_now_delinq' --> 0\n",
      "Column: 'chargeoff_within_12_mths' --> 0.0\n",
      "Column: 'delinq_amnt' --> 0\n",
      "Column: 'tax_liens' --> 0.0\n"
     ]
    }
   ],
   "source": [
    "# Checking the columns having all the values same\n",
    "same_value_columns = original_df.columns[original_df.nunique() == 1]\n",
    "\n",
    "for column in same_value_columns:\n",
    "    value = original_df[column].iloc[0]\n",
    "    print(f\"Column: '{column}' --> {value}\")"
   ]
  },
  {
   "cell_type": "markdown",
   "id": "ZKuHgm3XXzWW",
   "metadata": {
    "id": "ZKuHgm3XXzWW"
   },
   "source": [
    "These columns can be droped since it doesn't have any use in our analysis because all the values are same. Doesn't make sense for the analysis"
   ]
  },
  {
   "cell_type": "markdown",
   "id": "MnfAKeCPJW44",
   "metadata": {
    "id": "MnfAKeCPJW44"
   },
   "source": [
    "### e. Data Format and Types"
   ]
  },
  {
   "cell_type": "code",
   "execution_count": 752,
   "id": "cPB7OTVOL2_p",
   "metadata": {
    "colab": {
     "base_uri": "https://localhost:8080/"
    },
    "id": "cPB7OTVOL2_p",
    "outputId": "e9be725a-3a57-4f7c-ff29-e29167706a33"
   },
   "outputs": [
    {
     "data": {
      "text/plain": [
       "id                              int64\n",
       "member_id                       int64\n",
       "loan_amnt                       int64\n",
       "funded_amnt                     int64\n",
       "funded_amnt_inv               float64\n",
       "                               ...   \n",
       "tax_liens                     float64\n",
       "tot_hi_cred_lim               float64\n",
       "total_bal_ex_mort             float64\n",
       "total_bc_limit                float64\n",
       "total_il_high_credit_limit    float64\n",
       "Length: 111, dtype: object"
      ]
     },
     "execution_count": 752,
     "metadata": {},
     "output_type": "execute_result"
    }
   ],
   "source": [
    "# Finding the data types of all variables in dataframe\n",
    "data_types = original_df.dtypes\n",
    "data_types"
   ]
  },
  {
   "cell_type": "code",
   "execution_count": 753,
   "id": "vqYylZoMZG23",
   "metadata": {
    "colab": {
     "base_uri": "https://localhost:8080/"
    },
    "id": "vqYylZoMZG23",
    "outputId": "15063ba2-e8b8-47fc-b816-40aa401ff12f"
   },
   "outputs": [
    {
     "data": {
      "text/html": [
       "<div>\n",
       "<style scoped>\n",
       "    .dataframe tbody tr th:only-of-type {\n",
       "        vertical-align: middle;\n",
       "    }\n",
       "\n",
       "    .dataframe tbody tr th {\n",
       "        vertical-align: top;\n",
       "    }\n",
       "\n",
       "    .dataframe thead th {\n",
       "        text-align: right;\n",
       "    }\n",
       "</style>\n",
       "<table border=\"1\" class=\"dataframe\">\n",
       "  <thead>\n",
       "    <tr style=\"text-align: right;\">\n",
       "      <th></th>\n",
       "      <th>id</th>\n",
       "      <th>member_id</th>\n",
       "      <th>loan_amnt</th>\n",
       "      <th>funded_amnt</th>\n",
       "      <th>funded_amnt_inv</th>\n",
       "      <th>term</th>\n",
       "      <th>int_rate</th>\n",
       "      <th>installment</th>\n",
       "      <th>grade</th>\n",
       "      <th>sub_grade</th>\n",
       "      <th>...</th>\n",
       "      <th>num_tl_90g_dpd_24m</th>\n",
       "      <th>num_tl_op_past_12m</th>\n",
       "      <th>pct_tl_nvr_dlq</th>\n",
       "      <th>percent_bc_gt_75</th>\n",
       "      <th>pub_rec_bankruptcies</th>\n",
       "      <th>tax_liens</th>\n",
       "      <th>tot_hi_cred_lim</th>\n",
       "      <th>total_bal_ex_mort</th>\n",
       "      <th>total_bc_limit</th>\n",
       "      <th>total_il_high_credit_limit</th>\n",
       "    </tr>\n",
       "  </thead>\n",
       "  <tbody>\n",
       "    <tr>\n",
       "      <th>0</th>\n",
       "      <td>1077501</td>\n",
       "      <td>1296599</td>\n",
       "      <td>5000</td>\n",
       "      <td>5000</td>\n",
       "      <td>4975.0</td>\n",
       "      <td>36 months</td>\n",
       "      <td>10.65%</td>\n",
       "      <td>162.87</td>\n",
       "      <td>B</td>\n",
       "      <td>B2</td>\n",
       "      <td>...</td>\n",
       "      <td>NaN</td>\n",
       "      <td>NaN</td>\n",
       "      <td>NaN</td>\n",
       "      <td>NaN</td>\n",
       "      <td>0.0</td>\n",
       "      <td>0.0</td>\n",
       "      <td>NaN</td>\n",
       "      <td>NaN</td>\n",
       "      <td>NaN</td>\n",
       "      <td>NaN</td>\n",
       "    </tr>\n",
       "    <tr>\n",
       "      <th>1</th>\n",
       "      <td>1077430</td>\n",
       "      <td>1314167</td>\n",
       "      <td>2500</td>\n",
       "      <td>2500</td>\n",
       "      <td>2500.0</td>\n",
       "      <td>60 months</td>\n",
       "      <td>15.27%</td>\n",
       "      <td>59.83</td>\n",
       "      <td>C</td>\n",
       "      <td>C4</td>\n",
       "      <td>...</td>\n",
       "      <td>NaN</td>\n",
       "      <td>NaN</td>\n",
       "      <td>NaN</td>\n",
       "      <td>NaN</td>\n",
       "      <td>0.0</td>\n",
       "      <td>0.0</td>\n",
       "      <td>NaN</td>\n",
       "      <td>NaN</td>\n",
       "      <td>NaN</td>\n",
       "      <td>NaN</td>\n",
       "    </tr>\n",
       "    <tr>\n",
       "      <th>2</th>\n",
       "      <td>1077175</td>\n",
       "      <td>1313524</td>\n",
       "      <td>2400</td>\n",
       "      <td>2400</td>\n",
       "      <td>2400.0</td>\n",
       "      <td>36 months</td>\n",
       "      <td>15.96%</td>\n",
       "      <td>84.33</td>\n",
       "      <td>C</td>\n",
       "      <td>C5</td>\n",
       "      <td>...</td>\n",
       "      <td>NaN</td>\n",
       "      <td>NaN</td>\n",
       "      <td>NaN</td>\n",
       "      <td>NaN</td>\n",
       "      <td>0.0</td>\n",
       "      <td>0.0</td>\n",
       "      <td>NaN</td>\n",
       "      <td>NaN</td>\n",
       "      <td>NaN</td>\n",
       "      <td>NaN</td>\n",
       "    </tr>\n",
       "    <tr>\n",
       "      <th>3</th>\n",
       "      <td>1076863</td>\n",
       "      <td>1277178</td>\n",
       "      <td>10000</td>\n",
       "      <td>10000</td>\n",
       "      <td>10000.0</td>\n",
       "      <td>36 months</td>\n",
       "      <td>13.49%</td>\n",
       "      <td>339.31</td>\n",
       "      <td>C</td>\n",
       "      <td>C1</td>\n",
       "      <td>...</td>\n",
       "      <td>NaN</td>\n",
       "      <td>NaN</td>\n",
       "      <td>NaN</td>\n",
       "      <td>NaN</td>\n",
       "      <td>0.0</td>\n",
       "      <td>0.0</td>\n",
       "      <td>NaN</td>\n",
       "      <td>NaN</td>\n",
       "      <td>NaN</td>\n",
       "      <td>NaN</td>\n",
       "    </tr>\n",
       "    <tr>\n",
       "      <th>4</th>\n",
       "      <td>1075358</td>\n",
       "      <td>1311748</td>\n",
       "      <td>3000</td>\n",
       "      <td>3000</td>\n",
       "      <td>3000.0</td>\n",
       "      <td>60 months</td>\n",
       "      <td>12.69%</td>\n",
       "      <td>67.79</td>\n",
       "      <td>B</td>\n",
       "      <td>B5</td>\n",
       "      <td>...</td>\n",
       "      <td>NaN</td>\n",
       "      <td>NaN</td>\n",
       "      <td>NaN</td>\n",
       "      <td>NaN</td>\n",
       "      <td>0.0</td>\n",
       "      <td>0.0</td>\n",
       "      <td>NaN</td>\n",
       "      <td>NaN</td>\n",
       "      <td>NaN</td>\n",
       "      <td>NaN</td>\n",
       "    </tr>\n",
       "  </tbody>\n",
       "</table>\n",
       "<p>5 rows × 111 columns</p>\n",
       "</div>"
      ],
      "text/plain": [
       "        id  member_id  loan_amnt  funded_amnt  funded_amnt_inv        term  \\\n",
       "0  1077501    1296599       5000         5000           4975.0   36 months   \n",
       "1  1077430    1314167       2500         2500           2500.0   60 months   \n",
       "2  1077175    1313524       2400         2400           2400.0   36 months   \n",
       "3  1076863    1277178      10000        10000          10000.0   36 months   \n",
       "4  1075358    1311748       3000         3000           3000.0   60 months   \n",
       "\n",
       "  int_rate  installment grade sub_grade  ... num_tl_90g_dpd_24m  \\\n",
       "0   10.65%       162.87     B        B2  ...                NaN   \n",
       "1   15.27%        59.83     C        C4  ...                NaN   \n",
       "2   15.96%        84.33     C        C5  ...                NaN   \n",
       "3   13.49%       339.31     C        C1  ...                NaN   \n",
       "4   12.69%        67.79     B        B5  ...                NaN   \n",
       "\n",
       "  num_tl_op_past_12m pct_tl_nvr_dlq  percent_bc_gt_75 pub_rec_bankruptcies  \\\n",
       "0                NaN            NaN               NaN                  0.0   \n",
       "1                NaN            NaN               NaN                  0.0   \n",
       "2                NaN            NaN               NaN                  0.0   \n",
       "3                NaN            NaN               NaN                  0.0   \n",
       "4                NaN            NaN               NaN                  0.0   \n",
       "\n",
       "  tax_liens tot_hi_cred_lim total_bal_ex_mort total_bc_limit  \\\n",
       "0       0.0             NaN               NaN            NaN   \n",
       "1       0.0             NaN               NaN            NaN   \n",
       "2       0.0             NaN               NaN            NaN   \n",
       "3       0.0             NaN               NaN            NaN   \n",
       "4       0.0             NaN               NaN            NaN   \n",
       "\n",
       "  total_il_high_credit_limit  \n",
       "0                        NaN  \n",
       "1                        NaN  \n",
       "2                        NaN  \n",
       "3                        NaN  \n",
       "4                        NaN  \n",
       "\n",
       "[5 rows x 111 columns]"
      ]
     },
     "execution_count": 753,
     "metadata": {},
     "output_type": "execute_result"
    }
   ],
   "source": [
    "original_df.head()"
   ]
  },
  {
   "cell_type": "code",
   "execution_count": 754,
   "id": "1WjxiYleJjHo",
   "metadata": {
    "colab": {
     "base_uri": "https://localhost:8080/"
    },
    "id": "1WjxiYleJjHo",
    "outputId": "b191feb5-2a02-4417-c1d5-fbf551732358"
   },
   "outputs": [
    {
     "data": {
      "text/plain": [
       "array([dtype('int64'), dtype('float64'), dtype('O')], dtype=object)"
      ]
     },
     "execution_count": 754,
     "metadata": {},
     "output_type": "execute_result"
    }
   ],
   "source": [
    "data_types.unique()"
   ]
  },
  {
   "cell_type": "markdown",
   "id": "F_pHE87kL6jC",
   "metadata": {
    "id": "F_pHE87kL6jC"
   },
   "source": [
    "We can see here there are three types of data types `int64`, `float64`, `O`(object)<br>"
   ]
  },
  {
   "cell_type": "code",
   "execution_count": 755,
   "id": "9518a350",
   "metadata": {},
   "outputs": [
    {
     "name": "stdout",
     "output_type": "stream",
     "text": [
      "0     36 months\n",
      "1     60 months\n",
      "2     36 months\n",
      "3     36 months\n",
      "4     60 months\n",
      "Name: term, dtype: object\n",
      "object\n"
     ]
    }
   ],
   "source": [
    "# Viewing few values and dtype of term column\n",
    "print(original_df['term'].head())\n",
    "print(original_df['term'].dtype)"
   ]
  },
  {
   "cell_type": "code",
   "execution_count": 756,
   "id": "b50ac182",
   "metadata": {},
   "outputs": [
    {
     "name": "stdout",
     "output_type": "stream",
     "text": [
      "0    10.65%\n",
      "1    15.27%\n",
      "2    15.96%\n",
      "3    13.49%\n",
      "4    12.69%\n",
      "Name: int_rate, dtype: object\n",
      "object\n"
     ]
    }
   ],
   "source": [
    "# Viewing few values and dtype of int_rate column\n",
    "print(original_df['int_rate'].head())\n",
    "print(original_df['int_rate'].dtype)"
   ]
  },
  {
   "cell_type": "markdown",
   "id": "9da57960",
   "metadata": {},
   "source": [
    "Data types of few columns like term, int_rate, etc need to be changed.<br>\n",
    "* For example: \n",
    "    * Need to change the variable type of term from object to int (36 month -> 36)\n",
    "    * Need to change the variable type of int_rate from object to float (10.65% -> 10.65)"
   ]
  },
  {
   "cell_type": "code",
   "execution_count": 757,
   "id": "13f1f2dd",
   "metadata": {},
   "outputs": [
    {
     "name": "stdout",
     "output_type": "stream",
     "text": [
      "Index([], dtype='object')\n"
     ]
    }
   ],
   "source": [
    "# Viewing the date column\n",
    "date_columns = original_df.select_dtypes(include=['datetime64'])\n",
    "\n",
    "date_column_names = date_columns.columns\n",
    "print(date_column_names)"
   ]
  },
  {
   "cell_type": "markdown",
   "id": "0335ed0c",
   "metadata": {},
   "source": [
    "Despite of our data having date variables, we were not able to view the date columns here. <br>\n",
    "We have to consider the correction of format of the date in data cleaning process"
   ]
  },
  {
   "cell_type": "markdown",
   "id": "2Hrr7m804OYg",
   "metadata": {
    "id": "2Hrr7m804OYg"
   },
   "source": [
    "### f. Outliers"
   ]
  },
  {
   "cell_type": "code",
   "execution_count": 758,
   "id": "_QTk9uJL4NdZ",
   "metadata": {
    "id": "_QTk9uJL4NdZ"
   },
   "outputs": [
    {
     "name": "stdout",
     "output_type": "stream",
     "text": [
      "Outliers in loan_amnt: 1230\n",
      "Outliers in annual_inc: 1843\n",
      "Outliers in funded_amnt: 1038\n",
      "Outliers in installment: 1245\n"
     ]
    }
   ],
   "source": [
    "# Defining few numerical columns in order to check outliers\n",
    "numerical_columns = ['loan_amnt', 'annual_inc', 'funded_amnt', 'installment']\n",
    "\n",
    "# Finding outliers of all four variables\n",
    "for column in numerical_columns:\n",
    "    # first quartile (Q1)\n",
    "    Q1 = original_df[column].quantile(0.25)\n",
    "\n",
    "    # third quartile (Q3)\n",
    "    Q3 = original_df[column].quantile(0.75)\n",
    "\n",
    "    # interquartile range (IQR)\n",
    "    IQR = Q3 - Q1\n",
    "\n",
    "    # Calculating the lower bound and upper bound for outliers\n",
    "    lower_bound = Q1 - 1.5 * IQR\n",
    "    upper_bound = Q3 + 1.5 * IQR\n",
    "\n",
    "    # Detecting outliers\n",
    "    outliers = original_df[(original_df[column] < lower_bound) | (original_df[column] > upper_bound)]\n",
    "\n",
    "    # Printing the column name and the number of outliers\n",
    "    print(f\"Outliers in {column}: {outliers.shape[0]}\")\n"
   ]
  },
  {
   "cell_type": "code",
   "execution_count": 759,
   "id": "d01e8915",
   "metadata": {},
   "outputs": [
    {
     "data": {
      "image/png": "[encoded data removed]",
      "text/plain": [
       "<Figure size 1200x400 with 4 Axes>"
      ]
     },
     "metadata": {},
     "output_type": "display_data"
    }
   ],
   "source": [
    "numerical_columns = ['loan_amnt', 'annual_inc', 'funded_amnt', 'installment']\n",
    "\n",
    "# Creating a box plot for the those four varables\n",
    "fig, axes = plt.subplots(nrows=1, ncols=len(numerical_columns), figsize=(12, 4))\n",
    "\n",
    "for i, column in enumerate(numerical_columns):\n",
    "    axes[i].boxplot(original_df[column], vert=False)\n",
    "    axes[i].set_title(f'Box Plot of {column}')\n",
    "    axes[i].set_xlabel('Value')\n",
    "\n",
    "# Adjusting the layout\n",
    "plt.tight_layout()\n",
    "plt.show()\n"
   ]
  },
  {
   "cell_type": "markdown",
   "id": "679dcc9c",
   "metadata": {},
   "source": [
    "We can see lots of outliers are there that need to be removed. <br>\n",
    "Outliers treatment should also be considered in data cleaning process."
   ]
  },
  {
   "cell_type": "markdown",
   "id": "DZmDPbJiexOf",
   "metadata": {
    "id": "DZmDPbJiexOf"
   },
   "source": [
    "### g. Variable meaning"
   ]
  },
  {
   "cell_type": "code",
   "execution_count": 760,
   "id": "2Fm1OhVMevnA",
   "metadata": {
    "id": "2Fm1OhVMevnA",
    "scrolled": true
   },
   "outputs": [
    {
     "data": {
      "text/plain": [
       "['id',\n",
       " 'member_id',\n",
       " 'loan_amnt',\n",
       " 'funded_amnt',\n",
       " 'funded_amnt_inv',\n",
       " 'term',\n",
       " 'int_rate',\n",
       " 'installment',\n",
       " 'grade',\n",
       " 'sub_grade',\n",
       " 'emp_title',\n",
       " 'emp_length',\n",
       " 'home_ownership',\n",
       " 'annual_inc',\n",
       " 'verification_status',\n",
       " 'issue_d',\n",
       " 'loan_status',\n",
       " 'pymnt_plan',\n",
       " 'url',\n",
       " 'desc',\n",
       " 'purpose',\n",
       " 'title',\n",
       " 'zip_code',\n",
       " 'addr_state',\n",
       " 'dti',\n",
       " 'delinq_2yrs',\n",
       " 'earliest_cr_line',\n",
       " 'inq_last_6mths',\n",
       " 'mths_since_last_delinq',\n",
       " 'mths_since_last_record',\n",
       " 'open_acc',\n",
       " 'pub_rec',\n",
       " 'revol_bal',\n",
       " 'revol_util',\n",
       " 'total_acc',\n",
       " 'initial_list_status',\n",
       " 'out_prncp',\n",
       " 'out_prncp_inv',\n",
       " 'total_pymnt',\n",
       " 'total_pymnt_inv',\n",
       " 'total_rec_prncp',\n",
       " 'total_rec_int',\n",
       " 'total_rec_late_fee',\n",
       " 'recoveries',\n",
       " 'collection_recovery_fee',\n",
       " 'last_pymnt_d',\n",
       " 'last_pymnt_amnt',\n",
       " 'next_pymnt_d',\n",
       " 'last_credit_pull_d',\n",
       " 'collections_12_mths_ex_med',\n",
       " 'mths_since_last_major_derog',\n",
       " 'policy_code',\n",
       " 'application_type',\n",
       " 'annual_inc_joint',\n",
       " 'dti_joint',\n",
       " 'verification_status_joint',\n",
       " 'acc_now_delinq',\n",
       " 'tot_coll_amt',\n",
       " 'tot_cur_bal',\n",
       " 'open_acc_6m',\n",
       " 'open_il_6m',\n",
       " 'open_il_12m',\n",
       " 'open_il_24m',\n",
       " 'mths_since_rcnt_il',\n",
       " 'total_bal_il',\n",
       " 'il_util',\n",
       " 'open_rv_12m',\n",
       " 'open_rv_24m',\n",
       " 'max_bal_bc',\n",
       " 'all_util',\n",
       " 'total_rev_hi_lim',\n",
       " 'inq_fi',\n",
       " 'total_cu_tl',\n",
       " 'inq_last_12m',\n",
       " 'acc_open_past_24mths',\n",
       " 'avg_cur_bal',\n",
       " 'bc_open_to_buy',\n",
       " 'bc_util',\n",
       " 'chargeoff_within_12_mths',\n",
       " 'delinq_amnt',\n",
       " 'mo_sin_old_il_acct',\n",
       " 'mo_sin_old_rev_tl_op',\n",
       " 'mo_sin_rcnt_rev_tl_op',\n",
       " 'mo_sin_rcnt_tl',\n",
       " 'mort_acc',\n",
       " 'mths_since_recent_bc',\n",
       " 'mths_since_recent_bc_dlq',\n",
       " 'mths_since_recent_inq',\n",
       " 'mths_since_recent_revol_delinq',\n",
       " 'num_accts_ever_120_pd',\n",
       " 'num_actv_bc_tl',\n",
       " 'num_actv_rev_tl',\n",
       " 'num_bc_sats',\n",
       " 'num_bc_tl',\n",
       " 'num_il_tl',\n",
       " 'num_op_rev_tl',\n",
       " 'num_rev_accts',\n",
       " 'num_rev_tl_bal_gt_0',\n",
       " 'num_sats',\n",
       " 'num_tl_120dpd_2m',\n",
       " 'num_tl_30dpd',\n",
       " 'num_tl_90g_dpd_24m',\n",
       " 'num_tl_op_past_12m',\n",
       " 'pct_tl_nvr_dlq',\n",
       " 'percent_bc_gt_75',\n",
       " 'pub_rec_bankruptcies',\n",
       " 'tax_liens',\n",
       " 'tot_hi_cred_lim',\n",
       " 'total_bal_ex_mort',\n",
       " 'total_bc_limit',\n",
       " 'total_il_high_credit_limit']"
      ]
     },
     "execution_count": 760,
     "metadata": {},
     "output_type": "execute_result"
    }
   ],
   "source": [
    "# Print the names of all variables\n",
    "original_df.columns.tolist()"
   ]
  },
  {
   "cell_type": "markdown",
   "id": "SJmVW5nNgIlZ",
   "metadata": {
    "id": "SJmVW5nNgIlZ"
   },
   "source": [
    "Here we can see few variables name doesn't reflect to the actual meaning and is difficult to understand. Every time we have to refer Data Dictionary. So, name of the columns should also be changed in further cleaning process <br>\n",
    "(Not that necessary but just for readability while doing analysis)"
   ]
  },
  {
   "cell_type": "markdown",
   "id": "Wa-mlH6iw-4H",
   "metadata": {
    "id": "Wa-mlH6iw-4H"
   },
   "source": [
    "### h. Data Distribution"
   ]
  },
  {
   "cell_type": "code",
   "execution_count": 761,
   "id": "WEGuEqBOnupM",
   "metadata": {
    "colab": {
     "base_uri": "https://localhost:8080/"
    },
    "id": "WEGuEqBOnupM",
    "outputId": "a37f9887-4e22-438b-8662-71def94da77e"
   },
   "outputs": [
    {
     "name": "stdout",
     "output_type": "stream",
     "text": [
      "Skewness of numerical columns:\n",
      "id                            0.078808\n",
      "member_id                    -0.212416\n",
      "loan_amnt                     1.059317\n",
      "funded_amnt                   1.081710\n",
      "funded_amnt_inv               1.106213\n",
      "                                ...   \n",
      "tax_liens                     0.000000\n",
      "tot_hi_cred_lim                    NaN\n",
      "total_bal_ex_mort                  NaN\n",
      "total_bc_limit                     NaN\n",
      "total_il_high_credit_limit         NaN\n",
      "Length: 87, dtype: float64\n"
     ]
    }
   ],
   "source": [
    "# Selecting only numerical columns\n",
    "numerical_columns = original_df.select_dtypes(include=['int64', 'float64'])\n",
    "\n",
    "# Calculating skewness for each numerical column\n",
    "skewness = numerical_columns.apply(lambda x: x.skew())\n",
    "\n",
    "# Printing skewness values\n",
    "print(\"Skewness of numerical columns:\")\n",
    "print(skewness)"
   ]
  },
  {
   "cell_type": "code",
   "execution_count": 762,
   "id": "dICawNe-oSSj",
   "metadata": {
    "colab": {
     "base_uri": "https://localhost:8080/"
    },
    "id": "dICawNe-oSSj",
    "outputId": "501fab80-2e78-4342-bdf6-423314a8adf5"
   },
   "outputs": [
    {
     "name": "stdout",
     "output_type": "stream",
     "text": [
      "Normally Distributed Variables: 10\n",
      "Left-Skewed Variables: 1\n",
      "Right-Skewed Variables: 22\n"
     ]
    }
   ],
   "source": [
    "# Assuming 'skewness' is a Series containing skewness values\n",
    "normally_distributed = sum((-0.5 <= skewness) & (skewness <= 0.5))\n",
    "left_skewed = sum(skewness < -0.5)\n",
    "right_skewed = sum(skewness > 0.5)\n",
    "\n",
    "print(\"Normally Distributed Variables:\", normally_distributed)\n",
    "print(\"Left-Skewed Variables:\", left_skewed)\n",
    "print(\"Right-Skewed Variables:\", right_skewed)"
   ]
  },
  {
   "cell_type": "markdown",
   "id": "k1szCDptr6cF",
   "metadata": {
    "id": "k1szCDptr6cF"
   },
   "source": [
    "Among 111 variables in dataset only skewness of 33 has been calculated. <br>\n",
    "It either means rest other columns are non numerical variables OR the columns have all value missing.<br>\n",
    "And, it can be seen that dataset are not at all distributed normally. So, it need to be cleaned in various way like, dropping missing values, removing outliers, changing datatypes of the variables"
   ]
  },
  {
   "cell_type": "markdown",
   "id": "CBCMeHx0NEdZ",
   "metadata": {
    "id": "CBCMeHx0NEdZ"
   },
   "source": [
    "### i. Summary"
   ]
  },
  {
   "cell_type": "markdown",
   "id": "b7ULJgyT7NWV",
   "metadata": {
    "id": "b7ULJgyT7NWV"
   },
   "source": [
    "a. **Reading Dataset and understanding general structure of the dataset**:\n",
    "   - We successfully loaded the dataset into `original_df` and viewed the general structure of the dataset, including its shape, number of columns and rows, etc.\n",
    "\n",
    "b. **Summary Statistics**:\n",
    "   - Viewing summary statistics (mean, median, max, min, etc.) for numerical data helped us understand the central tendencies and data spread, enabling us to consider further steps.\n",
    "\n",
    "c. **Missing Values**:\n",
    "   - We addressed missing values by considering two scenarios:\n",
    "     - Columns with all null values: Should be dropped in cleaning process.\n",
    "     - Columns with at least one null value: Under some threshold:\n",
    "       - Columns with null values exceeding the threshold should be dropped.\n",
    "       - For columns with null values below the threshold, we should consider options such as imputation or removing rows with null values.\n",
    "\n",
    "d. **Consistent Values**:\n",
    "   - Columns where all values are zero/same should be removed in data cleaning process.\n",
    "\n",
    "e. **Data Format and Types**:\n",
    "   - We identified issues related to data format, including string values and dates, which needed transformation during the data cleaning process.\n",
    "   - Additionally, we recognized the need to change the data types of specific variables.\n",
    "\n",
    "f. **Handling Outliers**:\n",
    "   - Numerous outliers can be observed in the variables. Those outliers should be treated in data cleaning process\n",
    "\n",
    "g. **Variable Names**:\n",
    "   - Some variable names were found to be unclear or not reflective of their actual meaning, highlighting the need for renaming during the cleaning process. (Not optional, just for the readibility)\n",
    "\n",
    "h. **Data Distribution**:\n",
    "   - Observing the data distribution, we noted that most variables were not normally distributed. So, we should consider various data cleaning approaches, including dropping missing values, removing outliers, changing variable data types, and more.\n"
   ]
  },
  {
   "cell_type": "markdown",
   "id": "jJETaHE27wnL",
   "metadata": {
    "id": "jJETaHE27wnL"
   },
   "source": [
    "## 2. Data Cleaning and Manipulation"
   ]
  },
  {
   "cell_type": "markdown",
   "id": "wMREQ6-9dJzL",
   "metadata": {
    "id": "wMREQ6-9dJzL"
   },
   "source": [
    "Before starting a cleaning process lets keep the backup of original data frame to `original_df` and copy the dataframe to `df` and we will be using that for further"
   ]
  },
  {
   "cell_type": "code",
   "execution_count": 763,
   "id": "b443a588",
   "metadata": {
    "id": "b443a588"
   },
   "outputs": [],
   "source": [
    "df = original_df.copy()"
   ]
  },
  {
   "cell_type": "markdown",
   "id": "0f2ecb19",
   "metadata": {},
   "source": [
    "After understanding the data, we have concluded that our DataFrame has a lot to be cleaned"
   ]
  },
  {
   "cell_type": "markdown",
   "id": "507960f9",
   "metadata": {},
   "source": [
    "### a. Dropping non essential columns (missing values and consistent values)"
   ]
  },
  {
   "cell_type": "markdown",
   "id": "4118852a",
   "metadata": {},
   "source": [
    "Since we saw there are two types of columns having missing values `all values are missing` and `at least one value is missing`"
   ]
  },
  {
   "cell_type": "code",
   "execution_count": 764,
   "id": "05c70a32",
   "metadata": {},
   "outputs": [
    {
     "data": {
      "text/plain": [
       "111"
      ]
     },
     "execution_count": 764,
     "metadata": {},
     "output_type": "execute_result"
    }
   ],
   "source": [
    "df.shape[1] #total number of column"
   ]
  },
  {
   "cell_type": "markdown",
   "id": "de092417",
   "metadata": {},
   "source": [
    "Lets make a threshold `0.3` and try to remove all the columns having more than 30% null values"
   ]
  },
  {
   "cell_type": "code",
   "execution_count": 765,
   "id": "u3VEAprAXkX6",
   "metadata": {
    "id": "u3VEAprAXkX6"
   },
   "outputs": [],
   "source": [
    "# Defining a threshold for the maximum allowable missing values\n",
    "max_missing_threshold = 0.3\n",
    "\n",
    "# Calculating the percentage of missing values in each column\n",
    "columns_with_missing_values = df.isnull().mean()\n",
    "\n",
    "# Dropping columns with missing values exceeding the threshold\n",
    "columns_to_drop = columns_with_missing_values[columns_with_missing_values > max_missing_threshold].index\n",
    "\n",
    "# Dropping the identified columns from the DataFrame\n",
    "df = df.drop(columns=columns_to_drop)"
   ]
  },
  {
   "cell_type": "code",
   "execution_count": 766,
   "id": "8e4fbc85",
   "metadata": {},
   "outputs": [
    {
     "data": {
      "text/plain": [
       "53"
      ]
     },
     "execution_count": 766,
     "metadata": {},
     "output_type": "execute_result"
    }
   ],
   "source": [
    "df.shape[1] # total number of column after dropping null values"
   ]
  },
  {
   "cell_type": "markdown",
   "id": "7f1ca980",
   "metadata": {},
   "source": [
    "111 - 53 = 58 columns were dropped"
   ]
  },
  {
   "cell_type": "code",
   "execution_count": 767,
   "id": "h3xSC2qKYMwa",
   "metadata": {
    "id": "h3xSC2qKYMwa",
    "scrolled": false
   },
   "outputs": [
    {
     "name": "stdout",
     "output_type": "stream",
     "text": [
      "Total number of missing values(original_df): 2263364\n",
      "Total number of missing values(df): 4516\n"
     ]
    }
   ],
   "source": [
    "# Counting total number of missing values in the DataFrame\n",
    "print(f\"Total number of missing values(original_df): {original_df.isna().sum().sum()}\")\n",
    "print(f\"Total number of missing values(df): {df.isna().sum().sum()}\")"
   ]
  },
  {
   "cell_type": "markdown",
   "id": "6913f876",
   "metadata": {},
   "source": [
    "We were able to drop huge amount of missing values.<br>\n",
    "But still we do have 4516 missing values"
   ]
  },
  {
   "cell_type": "code",
   "execution_count": 768,
   "id": "gi3yu_tzd--i",
   "metadata": {
    "id": "gi3yu_tzd--i",
    "scrolled": true
   },
   "outputs": [
    {
     "data": {
      "text/html": [
       "<div>\n",
       "<style scoped>\n",
       "    .dataframe tbody tr th:only-of-type {\n",
       "        vertical-align: middle;\n",
       "    }\n",
       "\n",
       "    .dataframe tbody tr th {\n",
       "        vertical-align: top;\n",
       "    }\n",
       "\n",
       "    .dataframe thead th {\n",
       "        text-align: right;\n",
       "    }\n",
       "</style>\n",
       "<table border=\"1\" class=\"dataframe\">\n",
       "  <thead>\n",
       "    <tr style=\"text-align: right;\">\n",
       "      <th></th>\n",
       "      <th>id</th>\n",
       "      <th>member_id</th>\n",
       "      <th>loan_amnt</th>\n",
       "      <th>funded_amnt</th>\n",
       "      <th>funded_amnt_inv</th>\n",
       "      <th>term</th>\n",
       "      <th>int_rate</th>\n",
       "      <th>installment</th>\n",
       "      <th>grade</th>\n",
       "      <th>sub_grade</th>\n",
       "      <th>...</th>\n",
       "      <th>last_pymnt_amnt</th>\n",
       "      <th>last_credit_pull_d</th>\n",
       "      <th>collections_12_mths_ex_med</th>\n",
       "      <th>policy_code</th>\n",
       "      <th>application_type</th>\n",
       "      <th>acc_now_delinq</th>\n",
       "      <th>chargeoff_within_12_mths</th>\n",
       "      <th>delinq_amnt</th>\n",
       "      <th>pub_rec_bankruptcies</th>\n",
       "      <th>tax_liens</th>\n",
       "    </tr>\n",
       "  </thead>\n",
       "  <tbody>\n",
       "    <tr>\n",
       "      <th>0</th>\n",
       "      <td>1077501</td>\n",
       "      <td>1296599</td>\n",
       "      <td>5000</td>\n",
       "      <td>5000</td>\n",
       "      <td>4975.0</td>\n",
       "      <td>36 months</td>\n",
       "      <td>10.65%</td>\n",
       "      <td>162.87</td>\n",
       "      <td>B</td>\n",
       "      <td>B2</td>\n",
       "      <td>...</td>\n",
       "      <td>171.62</td>\n",
       "      <td>May-16</td>\n",
       "      <td>0.0</td>\n",
       "      <td>1</td>\n",
       "      <td>INDIVIDUAL</td>\n",
       "      <td>0</td>\n",
       "      <td>0.0</td>\n",
       "      <td>0</td>\n",
       "      <td>0.0</td>\n",
       "      <td>0.0</td>\n",
       "    </tr>\n",
       "    <tr>\n",
       "      <th>1</th>\n",
       "      <td>1077430</td>\n",
       "      <td>1314167</td>\n",
       "      <td>2500</td>\n",
       "      <td>2500</td>\n",
       "      <td>2500.0</td>\n",
       "      <td>60 months</td>\n",
       "      <td>15.27%</td>\n",
       "      <td>59.83</td>\n",
       "      <td>C</td>\n",
       "      <td>C4</td>\n",
       "      <td>...</td>\n",
       "      <td>119.66</td>\n",
       "      <td>Sep-13</td>\n",
       "      <td>0.0</td>\n",
       "      <td>1</td>\n",
       "      <td>INDIVIDUAL</td>\n",
       "      <td>0</td>\n",
       "      <td>0.0</td>\n",
       "      <td>0</td>\n",
       "      <td>0.0</td>\n",
       "      <td>0.0</td>\n",
       "    </tr>\n",
       "    <tr>\n",
       "      <th>2</th>\n",
       "      <td>1077175</td>\n",
       "      <td>1313524</td>\n",
       "      <td>2400</td>\n",
       "      <td>2400</td>\n",
       "      <td>2400.0</td>\n",
       "      <td>36 months</td>\n",
       "      <td>15.96%</td>\n",
       "      <td>84.33</td>\n",
       "      <td>C</td>\n",
       "      <td>C5</td>\n",
       "      <td>...</td>\n",
       "      <td>649.91</td>\n",
       "      <td>May-16</td>\n",
       "      <td>0.0</td>\n",
       "      <td>1</td>\n",
       "      <td>INDIVIDUAL</td>\n",
       "      <td>0</td>\n",
       "      <td>0.0</td>\n",
       "      <td>0</td>\n",
       "      <td>0.0</td>\n",
       "      <td>0.0</td>\n",
       "    </tr>\n",
       "    <tr>\n",
       "      <th>3</th>\n",
       "      <td>1076863</td>\n",
       "      <td>1277178</td>\n",
       "      <td>10000</td>\n",
       "      <td>10000</td>\n",
       "      <td>10000.0</td>\n",
       "      <td>36 months</td>\n",
       "      <td>13.49%</td>\n",
       "      <td>339.31</td>\n",
       "      <td>C</td>\n",
       "      <td>C1</td>\n",
       "      <td>...</td>\n",
       "      <td>357.48</td>\n",
       "      <td>Apr-16</td>\n",
       "      <td>0.0</td>\n",
       "      <td>1</td>\n",
       "      <td>INDIVIDUAL</td>\n",
       "      <td>0</td>\n",
       "      <td>0.0</td>\n",
       "      <td>0</td>\n",
       "      <td>0.0</td>\n",
       "      <td>0.0</td>\n",
       "    </tr>\n",
       "    <tr>\n",
       "      <th>4</th>\n",
       "      <td>1075358</td>\n",
       "      <td>1311748</td>\n",
       "      <td>3000</td>\n",
       "      <td>3000</td>\n",
       "      <td>3000.0</td>\n",
       "      <td>60 months</td>\n",
       "      <td>12.69%</td>\n",
       "      <td>67.79</td>\n",
       "      <td>B</td>\n",
       "      <td>B5</td>\n",
       "      <td>...</td>\n",
       "      <td>67.79</td>\n",
       "      <td>May-16</td>\n",
       "      <td>0.0</td>\n",
       "      <td>1</td>\n",
       "      <td>INDIVIDUAL</td>\n",
       "      <td>0</td>\n",
       "      <td>0.0</td>\n",
       "      <td>0</td>\n",
       "      <td>0.0</td>\n",
       "      <td>0.0</td>\n",
       "    </tr>\n",
       "    <tr>\n",
       "      <th>5</th>\n",
       "      <td>1075269</td>\n",
       "      <td>1311441</td>\n",
       "      <td>5000</td>\n",
       "      <td>5000</td>\n",
       "      <td>5000.0</td>\n",
       "      <td>36 months</td>\n",
       "      <td>7.90%</td>\n",
       "      <td>156.46</td>\n",
       "      <td>A</td>\n",
       "      <td>A4</td>\n",
       "      <td>...</td>\n",
       "      <td>161.03</td>\n",
       "      <td>Jan-16</td>\n",
       "      <td>0.0</td>\n",
       "      <td>1</td>\n",
       "      <td>INDIVIDUAL</td>\n",
       "      <td>0</td>\n",
       "      <td>0.0</td>\n",
       "      <td>0</td>\n",
       "      <td>0.0</td>\n",
       "      <td>0.0</td>\n",
       "    </tr>\n",
       "    <tr>\n",
       "      <th>6</th>\n",
       "      <td>1069639</td>\n",
       "      <td>1304742</td>\n",
       "      <td>7000</td>\n",
       "      <td>7000</td>\n",
       "      <td>7000.0</td>\n",
       "      <td>60 months</td>\n",
       "      <td>15.96%</td>\n",
       "      <td>170.08</td>\n",
       "      <td>C</td>\n",
       "      <td>C5</td>\n",
       "      <td>...</td>\n",
       "      <td>1313.76</td>\n",
       "      <td>May-16</td>\n",
       "      <td>0.0</td>\n",
       "      <td>1</td>\n",
       "      <td>INDIVIDUAL</td>\n",
       "      <td>0</td>\n",
       "      <td>0.0</td>\n",
       "      <td>0</td>\n",
       "      <td>0.0</td>\n",
       "      <td>0.0</td>\n",
       "    </tr>\n",
       "    <tr>\n",
       "      <th>7</th>\n",
       "      <td>1072053</td>\n",
       "      <td>1288686</td>\n",
       "      <td>3000</td>\n",
       "      <td>3000</td>\n",
       "      <td>3000.0</td>\n",
       "      <td>36 months</td>\n",
       "      <td>18.64%</td>\n",
       "      <td>109.43</td>\n",
       "      <td>E</td>\n",
       "      <td>E1</td>\n",
       "      <td>...</td>\n",
       "      <td>111.34</td>\n",
       "      <td>Dec-14</td>\n",
       "      <td>0.0</td>\n",
       "      <td>1</td>\n",
       "      <td>INDIVIDUAL</td>\n",
       "      <td>0</td>\n",
       "      <td>0.0</td>\n",
       "      <td>0</td>\n",
       "      <td>0.0</td>\n",
       "      <td>0.0</td>\n",
       "    </tr>\n",
       "    <tr>\n",
       "      <th>8</th>\n",
       "      <td>1071795</td>\n",
       "      <td>1306957</td>\n",
       "      <td>5600</td>\n",
       "      <td>5600</td>\n",
       "      <td>5600.0</td>\n",
       "      <td>60 months</td>\n",
       "      <td>21.28%</td>\n",
       "      <td>152.39</td>\n",
       "      <td>F</td>\n",
       "      <td>F2</td>\n",
       "      <td>...</td>\n",
       "      <td>152.39</td>\n",
       "      <td>Aug-12</td>\n",
       "      <td>0.0</td>\n",
       "      <td>1</td>\n",
       "      <td>INDIVIDUAL</td>\n",
       "      <td>0</td>\n",
       "      <td>0.0</td>\n",
       "      <td>0</td>\n",
       "      <td>0.0</td>\n",
       "      <td>0.0</td>\n",
       "    </tr>\n",
       "    <tr>\n",
       "      <th>9</th>\n",
       "      <td>1071570</td>\n",
       "      <td>1306721</td>\n",
       "      <td>5375</td>\n",
       "      <td>5375</td>\n",
       "      <td>5350.0</td>\n",
       "      <td>60 months</td>\n",
       "      <td>12.69%</td>\n",
       "      <td>121.45</td>\n",
       "      <td>B</td>\n",
       "      <td>B5</td>\n",
       "      <td>...</td>\n",
       "      <td>121.45</td>\n",
       "      <td>Mar-13</td>\n",
       "      <td>0.0</td>\n",
       "      <td>1</td>\n",
       "      <td>INDIVIDUAL</td>\n",
       "      <td>0</td>\n",
       "      <td>0.0</td>\n",
       "      <td>0</td>\n",
       "      <td>0.0</td>\n",
       "      <td>0.0</td>\n",
       "    </tr>\n",
       "    <tr>\n",
       "      <th>10</th>\n",
       "      <td>1070078</td>\n",
       "      <td>1305201</td>\n",
       "      <td>6500</td>\n",
       "      <td>6500</td>\n",
       "      <td>6500.0</td>\n",
       "      <td>60 months</td>\n",
       "      <td>14.65%</td>\n",
       "      <td>153.45</td>\n",
       "      <td>C</td>\n",
       "      <td>C3</td>\n",
       "      <td>...</td>\n",
       "      <td>1655.54</td>\n",
       "      <td>Dec-15</td>\n",
       "      <td>0.0</td>\n",
       "      <td>1</td>\n",
       "      <td>INDIVIDUAL</td>\n",
       "      <td>0</td>\n",
       "      <td>0.0</td>\n",
       "      <td>0</td>\n",
       "      <td>0.0</td>\n",
       "      <td>0.0</td>\n",
       "    </tr>\n",
       "    <tr>\n",
       "      <th>11</th>\n",
       "      <td>1069908</td>\n",
       "      <td>1305008</td>\n",
       "      <td>12000</td>\n",
       "      <td>12000</td>\n",
       "      <td>12000.0</td>\n",
       "      <td>36 months</td>\n",
       "      <td>12.69%</td>\n",
       "      <td>402.54</td>\n",
       "      <td>B</td>\n",
       "      <td>B5</td>\n",
       "      <td>...</td>\n",
       "      <td>6315.30</td>\n",
       "      <td>Aug-13</td>\n",
       "      <td>0.0</td>\n",
       "      <td>1</td>\n",
       "      <td>INDIVIDUAL</td>\n",
       "      <td>0</td>\n",
       "      <td>0.0</td>\n",
       "      <td>0</td>\n",
       "      <td>0.0</td>\n",
       "      <td>0.0</td>\n",
       "    </tr>\n",
       "    <tr>\n",
       "      <th>12</th>\n",
       "      <td>1064687</td>\n",
       "      <td>1298717</td>\n",
       "      <td>9000</td>\n",
       "      <td>9000</td>\n",
       "      <td>9000.0</td>\n",
       "      <td>36 months</td>\n",
       "      <td>13.49%</td>\n",
       "      <td>305.38</td>\n",
       "      <td>C</td>\n",
       "      <td>C1</td>\n",
       "      <td>...</td>\n",
       "      <td>305.38</td>\n",
       "      <td>Nov-12</td>\n",
       "      <td>0.0</td>\n",
       "      <td>1</td>\n",
       "      <td>INDIVIDUAL</td>\n",
       "      <td>0</td>\n",
       "      <td>0.0</td>\n",
       "      <td>0</td>\n",
       "      <td>0.0</td>\n",
       "      <td>0.0</td>\n",
       "    </tr>\n",
       "    <tr>\n",
       "      <th>13</th>\n",
       "      <td>1069866</td>\n",
       "      <td>1304956</td>\n",
       "      <td>3000</td>\n",
       "      <td>3000</td>\n",
       "      <td>3000.0</td>\n",
       "      <td>36 months</td>\n",
       "      <td>9.91%</td>\n",
       "      <td>96.68</td>\n",
       "      <td>B</td>\n",
       "      <td>B1</td>\n",
       "      <td>...</td>\n",
       "      <td>102.43</td>\n",
       "      <td>May-16</td>\n",
       "      <td>0.0</td>\n",
       "      <td>1</td>\n",
       "      <td>INDIVIDUAL</td>\n",
       "      <td>0</td>\n",
       "      <td>0.0</td>\n",
       "      <td>0</td>\n",
       "      <td>0.0</td>\n",
       "      <td>0.0</td>\n",
       "    </tr>\n",
       "    <tr>\n",
       "      <th>14</th>\n",
       "      <td>1069057</td>\n",
       "      <td>1303503</td>\n",
       "      <td>10000</td>\n",
       "      <td>10000</td>\n",
       "      <td>10000.0</td>\n",
       "      <td>36 months</td>\n",
       "      <td>10.65%</td>\n",
       "      <td>325.74</td>\n",
       "      <td>B</td>\n",
       "      <td>B2</td>\n",
       "      <td>...</td>\n",
       "      <td>325.74</td>\n",
       "      <td>Mar-14</td>\n",
       "      <td>0.0</td>\n",
       "      <td>1</td>\n",
       "      <td>INDIVIDUAL</td>\n",
       "      <td>0</td>\n",
       "      <td>0.0</td>\n",
       "      <td>0</td>\n",
       "      <td>0.0</td>\n",
       "      <td>0.0</td>\n",
       "    </tr>\n",
       "    <tr>\n",
       "      <th>15</th>\n",
       "      <td>1069759</td>\n",
       "      <td>1304871</td>\n",
       "      <td>1000</td>\n",
       "      <td>1000</td>\n",
       "      <td>1000.0</td>\n",
       "      <td>36 months</td>\n",
       "      <td>16.29%</td>\n",
       "      <td>35.31</td>\n",
       "      <td>D</td>\n",
       "      <td>D1</td>\n",
       "      <td>...</td>\n",
       "      <td>36.32</td>\n",
       "      <td>May-16</td>\n",
       "      <td>0.0</td>\n",
       "      <td>1</td>\n",
       "      <td>INDIVIDUAL</td>\n",
       "      <td>0</td>\n",
       "      <td>0.0</td>\n",
       "      <td>0</td>\n",
       "      <td>0.0</td>\n",
       "      <td>0.0</td>\n",
       "    </tr>\n",
       "    <tr>\n",
       "      <th>16</th>\n",
       "      <td>1065775</td>\n",
       "      <td>1299699</td>\n",
       "      <td>10000</td>\n",
       "      <td>10000</td>\n",
       "      <td>10000.0</td>\n",
       "      <td>36 months</td>\n",
       "      <td>15.27%</td>\n",
       "      <td>347.98</td>\n",
       "      <td>C</td>\n",
       "      <td>C4</td>\n",
       "      <td>...</td>\n",
       "      <td>370.46</td>\n",
       "      <td>Apr-15</td>\n",
       "      <td>0.0</td>\n",
       "      <td>1</td>\n",
       "      <td>INDIVIDUAL</td>\n",
       "      <td>0</td>\n",
       "      <td>0.0</td>\n",
       "      <td>0</td>\n",
       "      <td>0.0</td>\n",
       "      <td>0.0</td>\n",
       "    </tr>\n",
       "    <tr>\n",
       "      <th>17</th>\n",
       "      <td>1069971</td>\n",
       "      <td>1304884</td>\n",
       "      <td>3600</td>\n",
       "      <td>3600</td>\n",
       "      <td>3600.0</td>\n",
       "      <td>36 months</td>\n",
       "      <td>6.03%</td>\n",
       "      <td>109.57</td>\n",
       "      <td>A</td>\n",
       "      <td>A1</td>\n",
       "      <td>...</td>\n",
       "      <td>583.45</td>\n",
       "      <td>May-14</td>\n",
       "      <td>0.0</td>\n",
       "      <td>1</td>\n",
       "      <td>INDIVIDUAL</td>\n",
       "      <td>0</td>\n",
       "      <td>0.0</td>\n",
       "      <td>0</td>\n",
       "      <td>0.0</td>\n",
       "      <td>0.0</td>\n",
       "    </tr>\n",
       "    <tr>\n",
       "      <th>18</th>\n",
       "      <td>1062474</td>\n",
       "      <td>1294539</td>\n",
       "      <td>6000</td>\n",
       "      <td>6000</td>\n",
       "      <td>6000.0</td>\n",
       "      <td>36 months</td>\n",
       "      <td>11.71%</td>\n",
       "      <td>198.46</td>\n",
       "      <td>B</td>\n",
       "      <td>B3</td>\n",
       "      <td>...</td>\n",
       "      <td>16.98</td>\n",
       "      <td>Jul-15</td>\n",
       "      <td>0.0</td>\n",
       "      <td>1</td>\n",
       "      <td>INDIVIDUAL</td>\n",
       "      <td>0</td>\n",
       "      <td>0.0</td>\n",
       "      <td>0</td>\n",
       "      <td>0.0</td>\n",
       "      <td>0.0</td>\n",
       "    </tr>\n",
       "    <tr>\n",
       "      <th>19</th>\n",
       "      <td>1069742</td>\n",
       "      <td>1304855</td>\n",
       "      <td>9200</td>\n",
       "      <td>9200</td>\n",
       "      <td>9200.0</td>\n",
       "      <td>36 months</td>\n",
       "      <td>6.03%</td>\n",
       "      <td>280.01</td>\n",
       "      <td>A</td>\n",
       "      <td>A1</td>\n",
       "      <td>...</td>\n",
       "      <td>8061.10</td>\n",
       "      <td>Feb-16</td>\n",
       "      <td>0.0</td>\n",
       "      <td>1</td>\n",
       "      <td>INDIVIDUAL</td>\n",
       "      <td>0</td>\n",
       "      <td>0.0</td>\n",
       "      <td>0</td>\n",
       "      <td>0.0</td>\n",
       "      <td>0.0</td>\n",
       "    </tr>\n",
       "  </tbody>\n",
       "</table>\n",
       "<p>20 rows × 53 columns</p>\n",
       "</div>"
      ],
      "text/plain": [
       "         id  member_id  loan_amnt  funded_amnt  funded_amnt_inv        term  \\\n",
       "0   1077501    1296599       5000         5000           4975.0   36 months   \n",
       "1   1077430    1314167       2500         2500           2500.0   60 months   \n",
       "2   1077175    1313524       2400         2400           2400.0   36 months   \n",
       "3   1076863    1277178      10000        10000          10000.0   36 months   \n",
       "4   1075358    1311748       3000         3000           3000.0   60 months   \n",
       "5   1075269    1311441       5000         5000           5000.0   36 months   \n",
       "6   1069639    1304742       7000         7000           7000.0   60 months   \n",
       "7   1072053    1288686       3000         3000           3000.0   36 months   \n",
       "8   1071795    1306957       5600         5600           5600.0   60 months   \n",
       "9   1071570    1306721       5375         5375           5350.0   60 months   \n",
       "10  1070078    1305201       6500         6500           6500.0   60 months   \n",
       "11  1069908    1305008      12000        12000          12000.0   36 months   \n",
       "12  1064687    1298717       9000         9000           9000.0   36 months   \n",
       "13  1069866    1304956       3000         3000           3000.0   36 months   \n",
       "14  1069057    1303503      10000        10000          10000.0   36 months   \n",
       "15  1069759    1304871       1000         1000           1000.0   36 months   \n",
       "16  1065775    1299699      10000        10000          10000.0   36 months   \n",
       "17  1069971    1304884       3600         3600           3600.0   36 months   \n",
       "18  1062474    1294539       6000         6000           6000.0   36 months   \n",
       "19  1069742    1304855       9200         9200           9200.0   36 months   \n",
       "\n",
       "   int_rate  installment grade sub_grade  ... last_pymnt_amnt  \\\n",
       "0    10.65%       162.87     B        B2  ...          171.62   \n",
       "1    15.27%        59.83     C        C4  ...          119.66   \n",
       "2    15.96%        84.33     C        C5  ...          649.91   \n",
       "3    13.49%       339.31     C        C1  ...          357.48   \n",
       "4    12.69%        67.79     B        B5  ...           67.79   \n",
       "5     7.90%       156.46     A        A4  ...          161.03   \n",
       "6    15.96%       170.08     C        C5  ...         1313.76   \n",
       "7    18.64%       109.43     E        E1  ...          111.34   \n",
       "8    21.28%       152.39     F        F2  ...          152.39   \n",
       "9    12.69%       121.45     B        B5  ...          121.45   \n",
       "10   14.65%       153.45     C        C3  ...         1655.54   \n",
       "11   12.69%       402.54     B        B5  ...         6315.30   \n",
       "12   13.49%       305.38     C        C1  ...          305.38   \n",
       "13    9.91%        96.68     B        B1  ...          102.43   \n",
       "14   10.65%       325.74     B        B2  ...          325.74   \n",
       "15   16.29%        35.31     D        D1  ...           36.32   \n",
       "16   15.27%       347.98     C        C4  ...          370.46   \n",
       "17    6.03%       109.57     A        A1  ...          583.45   \n",
       "18   11.71%       198.46     B        B3  ...           16.98   \n",
       "19    6.03%       280.01     A        A1  ...         8061.10   \n",
       "\n",
       "   last_credit_pull_d collections_12_mths_ex_med  policy_code  \\\n",
       "0              May-16                        0.0            1   \n",
       "1              Sep-13                        0.0            1   \n",
       "2              May-16                        0.0            1   \n",
       "3              Apr-16                        0.0            1   \n",
       "4              May-16                        0.0            1   \n",
       "5              Jan-16                        0.0            1   \n",
       "6              May-16                        0.0            1   \n",
       "7              Dec-14                        0.0            1   \n",
       "8              Aug-12                        0.0            1   \n",
       "9              Mar-13                        0.0            1   \n",
       "10             Dec-15                        0.0            1   \n",
       "11             Aug-13                        0.0            1   \n",
       "12             Nov-12                        0.0            1   \n",
       "13             May-16                        0.0            1   \n",
       "14             Mar-14                        0.0            1   \n",
       "15             May-16                        0.0            1   \n",
       "16             Apr-15                        0.0            1   \n",
       "17             May-14                        0.0            1   \n",
       "18             Jul-15                        0.0            1   \n",
       "19             Feb-16                        0.0            1   \n",
       "\n",
       "   application_type acc_now_delinq chargeoff_within_12_mths delinq_amnt  \\\n",
       "0        INDIVIDUAL              0                      0.0           0   \n",
       "1        INDIVIDUAL              0                      0.0           0   \n",
       "2        INDIVIDUAL              0                      0.0           0   \n",
       "3        INDIVIDUAL              0                      0.0           0   \n",
       "4        INDIVIDUAL              0                      0.0           0   \n",
       "5        INDIVIDUAL              0                      0.0           0   \n",
       "6        INDIVIDUAL              0                      0.0           0   \n",
       "7        INDIVIDUAL              0                      0.0           0   \n",
       "8        INDIVIDUAL              0                      0.0           0   \n",
       "9        INDIVIDUAL              0                      0.0           0   \n",
       "10       INDIVIDUAL              0                      0.0           0   \n",
       "11       INDIVIDUAL              0                      0.0           0   \n",
       "12       INDIVIDUAL              0                      0.0           0   \n",
       "13       INDIVIDUAL              0                      0.0           0   \n",
       "14       INDIVIDUAL              0                      0.0           0   \n",
       "15       INDIVIDUAL              0                      0.0           0   \n",
       "16       INDIVIDUAL              0                      0.0           0   \n",
       "17       INDIVIDUAL              0                      0.0           0   \n",
       "18       INDIVIDUAL              0                      0.0           0   \n",
       "19       INDIVIDUAL              0                      0.0           0   \n",
       "\n",
       "   pub_rec_bankruptcies tax_liens  \n",
       "0                   0.0       0.0  \n",
       "1                   0.0       0.0  \n",
       "2                   0.0       0.0  \n",
       "3                   0.0       0.0  \n",
       "4                   0.0       0.0  \n",
       "5                   0.0       0.0  \n",
       "6                   0.0       0.0  \n",
       "7                   0.0       0.0  \n",
       "8                   0.0       0.0  \n",
       "9                   0.0       0.0  \n",
       "10                  0.0       0.0  \n",
       "11                  0.0       0.0  \n",
       "12                  0.0       0.0  \n",
       "13                  0.0       0.0  \n",
       "14                  0.0       0.0  \n",
       "15                  0.0       0.0  \n",
       "16                  0.0       0.0  \n",
       "17                  0.0       0.0  \n",
       "18                  0.0       0.0  \n",
       "19                  0.0       0.0  \n",
       "\n",
       "[20 rows x 53 columns]"
      ]
     },
     "execution_count": 768,
     "metadata": {},
     "output_type": "execute_result"
    }
   ],
   "source": [
    "df.head(20)"
   ]
  },
  {
   "cell_type": "markdown",
   "id": "3527a324",
   "metadata": {},
   "source": [
    "Before deleting missing values lets delete some non essential columns <br>\n",
    "Let's delete columns with consistent values"
   ]
  },
  {
   "cell_type": "code",
   "execution_count": 769,
   "id": "XdBbxonmd8-a",
   "metadata": {
    "id": "XdBbxonmd8-a"
   },
   "outputs": [],
   "source": [
    "df_backup = df.copy()"
   ]
  },
  {
   "cell_type": "code",
   "execution_count": 770,
   "id": "68bee865",
   "metadata": {},
   "outputs": [
    {
     "name": "stdout",
     "output_type": "stream",
     "text": [
      "Number of columns with all values zero: 22\n"
     ]
    }
   ],
   "source": [
    "# Defining a threshold for the maximum allowable zero values\n",
    "max_zero_threshold = 1  # This threshold is set to 1, meaning all zeros\n",
    "\n",
    "# Calculating the sum of values equal to zero in each column\n",
    "columns_with_zero_values = (df == 0).sum()\n",
    "\n",
    "# Finding the columns to drop\n",
    "columns_to_drop = columns_with_zero_values[columns_with_zero_values > max_zero_threshold].index\n",
    "\n",
    "print(f\"Number of columns with all values zero: {len(columns_to_drop)}\")"
   ]
  },
  {
   "cell_type": "markdown",
   "id": "4b3a74a3",
   "metadata": {},
   "source": [
    "Let's delete all those columns"
   ]
  },
  {
   "cell_type": "code",
   "execution_count": 771,
   "id": "VVUuWlzEcSOK",
   "metadata": {
    "id": "VVUuWlzEcSOK"
   },
   "outputs": [],
   "source": [
    "# Dropping those columns\n",
    "df = df.drop(columns=columns_to_drop)"
   ]
  },
  {
   "cell_type": "code",
   "execution_count": 772,
   "id": "b217865d",
   "metadata": {},
   "outputs": [
    {
     "data": {
      "text/plain": [
       "31"
      ]
     },
     "execution_count": 772,
     "metadata": {},
     "output_type": "execute_result"
    }
   ],
   "source": [
    "df.shape[1]"
   ]
  },
  {
   "cell_type": "markdown",
   "id": "742700ba",
   "metadata": {},
   "source": [
    "Total number of current columns is 31"
   ]
  },
  {
   "cell_type": "code",
   "execution_count": 773,
   "id": "fbb9ae5e",
   "metadata": {
    "scrolled": true
   },
   "outputs": [
    {
     "name": "stdout",
     "output_type": "stream",
     "text": [
      "Number of columns with all values the same: 4\n"
     ]
    }
   ],
   "source": [
    "# Viewing the total number of columns with the same values\n",
    "num_columns_same_values = (df.nunique() == 1).sum()\n",
    "print(f\"Number of columns with all values the same: {num_columns_same_values}\")"
   ]
  },
  {
   "cell_type": "markdown",
   "id": "0d2d86c6",
   "metadata": {},
   "source": [
    "Let's delete all those columns"
   ]
  },
  {
   "cell_type": "code",
   "execution_count": 774,
   "id": "2b2dd8a3",
   "metadata": {},
   "outputs": [],
   "source": [
    "df = df.loc[:, df.nunique() > 1]"
   ]
  },
  {
   "cell_type": "code",
   "execution_count": 775,
   "id": "2ba78d4d",
   "metadata": {},
   "outputs": [
    {
     "data": {
      "text/plain": [
       "27"
      ]
     },
     "execution_count": 775,
     "metadata": {},
     "output_type": "execute_result"
    }
   ],
   "source": [
    "df.shape[1]"
   ]
  },
  {
   "cell_type": "markdown",
   "id": "9a210a09",
   "metadata": {},
   "source": [
    "Now, we have 27 columns left after deleting non essential columns"
   ]
  },
  {
   "cell_type": "code",
   "execution_count": 776,
   "id": "cbcd102e",
   "metadata": {},
   "outputs": [],
   "source": [
    "df1 = df.copy()"
   ]
  },
  {
   "cell_type": "markdown",
   "id": "e3a0119d",
   "metadata": {},
   "source": [
    "### b. Dropping non Essential columns"
   ]
  },
  {
   "cell_type": "markdown",
   "id": "f0bf39b7",
   "metadata": {
    "id": "660c5d33"
   },
   "source": [
    "After understanding our data we could conclude that there are some columns that need to be delete apart from columns with missing values, zero values and same values <br>\n",
    "Let's have a look into "
   ]
  },
  {
   "cell_type": "code",
   "execution_count": 777,
   "id": "RPzVjIE5cQJr",
   "metadata": {
    "id": "RPzVjIE5cQJr",
    "scrolled": true
   },
   "outputs": [
    {
     "data": {
      "text/html": [
       "<div>\n",
       "<style scoped>\n",
       "    .dataframe tbody tr th:only-of-type {\n",
       "        vertical-align: middle;\n",
       "    }\n",
       "\n",
       "    .dataframe tbody tr th {\n",
       "        vertical-align: top;\n",
       "    }\n",
       "\n",
       "    .dataframe thead th {\n",
       "        text-align: right;\n",
       "    }\n",
       "</style>\n",
       "<table border=\"1\" class=\"dataframe\">\n",
       "  <thead>\n",
       "    <tr style=\"text-align: right;\">\n",
       "      <th></th>\n",
       "      <th>id</th>\n",
       "      <th>member_id</th>\n",
       "      <th>loan_amnt</th>\n",
       "      <th>funded_amnt</th>\n",
       "      <th>term</th>\n",
       "      <th>int_rate</th>\n",
       "      <th>installment</th>\n",
       "      <th>grade</th>\n",
       "      <th>sub_grade</th>\n",
       "      <th>emp_title</th>\n",
       "      <th>...</th>\n",
       "      <th>purpose</th>\n",
       "      <th>title</th>\n",
       "      <th>zip_code</th>\n",
       "      <th>addr_state</th>\n",
       "      <th>earliest_cr_line</th>\n",
       "      <th>open_acc</th>\n",
       "      <th>revol_util</th>\n",
       "      <th>total_acc</th>\n",
       "      <th>last_pymnt_d</th>\n",
       "      <th>last_credit_pull_d</th>\n",
       "    </tr>\n",
       "  </thead>\n",
       "  <tbody>\n",
       "    <tr>\n",
       "      <th>0</th>\n",
       "      <td>1077501</td>\n",
       "      <td>1296599</td>\n",
       "      <td>5000</td>\n",
       "      <td>5000</td>\n",
       "      <td>36 months</td>\n",
       "      <td>10.65%</td>\n",
       "      <td>162.87</td>\n",
       "      <td>B</td>\n",
       "      <td>B2</td>\n",
       "      <td>NaN</td>\n",
       "      <td>...</td>\n",
       "      <td>credit_card</td>\n",
       "      <td>Computer</td>\n",
       "      <td>860xx</td>\n",
       "      <td>AZ</td>\n",
       "      <td>Jan-85</td>\n",
       "      <td>3</td>\n",
       "      <td>83.70%</td>\n",
       "      <td>9</td>\n",
       "      <td>Jan-15</td>\n",
       "      <td>May-16</td>\n",
       "    </tr>\n",
       "    <tr>\n",
       "      <th>1</th>\n",
       "      <td>1077430</td>\n",
       "      <td>1314167</td>\n",
       "      <td>2500</td>\n",
       "      <td>2500</td>\n",
       "      <td>60 months</td>\n",
       "      <td>15.27%</td>\n",
       "      <td>59.83</td>\n",
       "      <td>C</td>\n",
       "      <td>C4</td>\n",
       "      <td>Ryder</td>\n",
       "      <td>...</td>\n",
       "      <td>car</td>\n",
       "      <td>bike</td>\n",
       "      <td>309xx</td>\n",
       "      <td>GA</td>\n",
       "      <td>Apr-99</td>\n",
       "      <td>3</td>\n",
       "      <td>9.40%</td>\n",
       "      <td>4</td>\n",
       "      <td>Apr-13</td>\n",
       "      <td>Sep-13</td>\n",
       "    </tr>\n",
       "    <tr>\n",
       "      <th>2</th>\n",
       "      <td>1077175</td>\n",
       "      <td>1313524</td>\n",
       "      <td>2400</td>\n",
       "      <td>2400</td>\n",
       "      <td>36 months</td>\n",
       "      <td>15.96%</td>\n",
       "      <td>84.33</td>\n",
       "      <td>C</td>\n",
       "      <td>C5</td>\n",
       "      <td>NaN</td>\n",
       "      <td>...</td>\n",
       "      <td>small_business</td>\n",
       "      <td>real estate business</td>\n",
       "      <td>606xx</td>\n",
       "      <td>IL</td>\n",
       "      <td>Nov-01</td>\n",
       "      <td>2</td>\n",
       "      <td>98.50%</td>\n",
       "      <td>10</td>\n",
       "      <td>Jun-14</td>\n",
       "      <td>May-16</td>\n",
       "    </tr>\n",
       "    <tr>\n",
       "      <th>3</th>\n",
       "      <td>1076863</td>\n",
       "      <td>1277178</td>\n",
       "      <td>10000</td>\n",
       "      <td>10000</td>\n",
       "      <td>36 months</td>\n",
       "      <td>13.49%</td>\n",
       "      <td>339.31</td>\n",
       "      <td>C</td>\n",
       "      <td>C1</td>\n",
       "      <td>AIR RESOURCES BOARD</td>\n",
       "      <td>...</td>\n",
       "      <td>other</td>\n",
       "      <td>personel</td>\n",
       "      <td>917xx</td>\n",
       "      <td>CA</td>\n",
       "      <td>Feb-96</td>\n",
       "      <td>10</td>\n",
       "      <td>21%</td>\n",
       "      <td>37</td>\n",
       "      <td>Jan-15</td>\n",
       "      <td>Apr-16</td>\n",
       "    </tr>\n",
       "    <tr>\n",
       "      <th>4</th>\n",
       "      <td>1075358</td>\n",
       "      <td>1311748</td>\n",
       "      <td>3000</td>\n",
       "      <td>3000</td>\n",
       "      <td>60 months</td>\n",
       "      <td>12.69%</td>\n",
       "      <td>67.79</td>\n",
       "      <td>B</td>\n",
       "      <td>B5</td>\n",
       "      <td>University Medical Group</td>\n",
       "      <td>...</td>\n",
       "      <td>other</td>\n",
       "      <td>Personal</td>\n",
       "      <td>972xx</td>\n",
       "      <td>OR</td>\n",
       "      <td>Jan-96</td>\n",
       "      <td>15</td>\n",
       "      <td>53.90%</td>\n",
       "      <td>38</td>\n",
       "      <td>May-16</td>\n",
       "      <td>May-16</td>\n",
       "    </tr>\n",
       "  </tbody>\n",
       "</table>\n",
       "<p>5 rows × 27 columns</p>\n",
       "</div>"
      ],
      "text/plain": [
       "        id  member_id  loan_amnt  funded_amnt        term int_rate  \\\n",
       "0  1077501    1296599       5000         5000   36 months   10.65%   \n",
       "1  1077430    1314167       2500         2500   60 months   15.27%   \n",
       "2  1077175    1313524       2400         2400   36 months   15.96%   \n",
       "3  1076863    1277178      10000        10000   36 months   13.49%   \n",
       "4  1075358    1311748       3000         3000   60 months   12.69%   \n",
       "\n",
       "   installment grade sub_grade                 emp_title  ...         purpose  \\\n",
       "0       162.87     B        B2                       NaN  ...     credit_card   \n",
       "1        59.83     C        C4                     Ryder  ...             car   \n",
       "2        84.33     C        C5                       NaN  ...  small_business   \n",
       "3       339.31     C        C1       AIR RESOURCES BOARD  ...           other   \n",
       "4        67.79     B        B5  University Medical Group  ...           other   \n",
       "\n",
       "                  title  zip_code addr_state earliest_cr_line open_acc  \\\n",
       "0              Computer     860xx         AZ           Jan-85        3   \n",
       "1                  bike     309xx         GA           Apr-99        3   \n",
       "2  real estate business     606xx         IL           Nov-01        2   \n",
       "3              personel     917xx         CA           Feb-96       10   \n",
       "4              Personal     972xx         OR           Jan-96       15   \n",
       "\n",
       "  revol_util total_acc last_pymnt_d last_credit_pull_d  \n",
       "0     83.70%         9       Jan-15             May-16  \n",
       "1      9.40%         4       Apr-13             Sep-13  \n",
       "2     98.50%        10       Jun-14             May-16  \n",
       "3        21%        37       Jan-15             Apr-16  \n",
       "4     53.90%        38       May-16             May-16  \n",
       "\n",
       "[5 rows x 27 columns]"
      ]
     },
     "execution_count": 777,
     "metadata": {},
     "output_type": "execute_result"
    }
   ],
   "source": [
    "df.head()"
   ]
  },
  {
   "cell_type": "code",
   "execution_count": 778,
   "id": "c4ce1f02",
   "metadata": {
    "scrolled": true
   },
   "outputs": [
    {
     "data": {
      "text/plain": [
       "['id',\n",
       " 'member_id',\n",
       " 'loan_amnt',\n",
       " 'funded_amnt',\n",
       " 'term',\n",
       " 'int_rate',\n",
       " 'installment',\n",
       " 'grade',\n",
       " 'sub_grade',\n",
       " 'emp_title',\n",
       " 'emp_length',\n",
       " 'home_ownership',\n",
       " 'annual_inc',\n",
       " 'verification_status',\n",
       " 'issue_d',\n",
       " 'loan_status',\n",
       " 'url',\n",
       " 'purpose',\n",
       " 'title',\n",
       " 'zip_code',\n",
       " 'addr_state',\n",
       " 'earliest_cr_line',\n",
       " 'open_acc',\n",
       " 'revol_util',\n",
       " 'total_acc',\n",
       " 'last_pymnt_d',\n",
       " 'last_credit_pull_d']"
      ]
     },
     "execution_count": 778,
     "metadata": {},
     "output_type": "execute_result"
    }
   ],
   "source": [
    "df.columns.tolist()"
   ]
  },
  {
   "cell_type": "markdown",
   "id": "2eb1cdb8",
   "metadata": {},
   "source": [
    "`id` is non esssential <br>\n",
    "`member_id` is not usually essential. But, lets keep this unique id just in case in future if we want to use other columns which is not in current dataframe, then using id we can map the original_df to the df <br>\n",
    " `loan_amt`, `funded_amnt`, `term`, `int_rate`, `installment`, `grade`, `sub_grade` are essential columns <br>\n",
    " `emp_title`, `emp_length` is not that essential <br>\n",
    " `home_ownership`, `anual_inc`, `verification_status` are essential <br>\n",
    " `issue_d` is non essential"
   ]
  },
  {
   "cell_type": "code",
   "execution_count": 779,
   "id": "f6d51873",
   "metadata": {
    "colab": {
     "base_uri": "https://localhost:8080/",
     "height": 175
    },
    "id": "f6d51873",
    "outputId": "ec42aed7-fbe9-4aba-d4ec-640ba1031017"
   },
   "outputs": [
    {
     "data": {
      "text/plain": [
       "array(['Fully Paid', 'Charged Off', 'Current'], dtype=object)"
      ]
     },
     "execution_count": 779,
     "metadata": {},
     "output_type": "execute_result"
    }
   ],
   "source": [
    "df['loan_status'].unique()"
   ]
  },
  {
   "cell_type": "markdown",
   "id": "fe06437e",
   "metadata": {
    "id": "427faa5d"
   },
   "source": [
    "`loan_status` is essential column but the rows with 'Current' is non essential. Will do row part later <br>\n",
    "`url`, `desc` are non essential <br>\n",
    "`purpose` is essential"
   ]
  },
  {
   "cell_type": "code",
   "execution_count": 780,
   "id": "23c8d225",
   "metadata": {
    "id": "23c8d225",
    "scrolled": true
   },
   "outputs": [
    {
     "data": {
      "text/plain": [
       "0                Computer\n",
       "1                    bike\n",
       "2    real estate business\n",
       "3                personel\n",
       "4                Personal\n",
       "Name: title, dtype: object"
      ]
     },
     "execution_count": 780,
     "metadata": {},
     "output_type": "execute_result"
    }
   ],
   "source": [
    "df['title'].head()"
   ]
  },
  {
   "cell_type": "markdown",
   "id": "dbd803ee",
   "metadata": {
    "id": "1886203e"
   },
   "source": [
    "`title` is non essential since it consists of long string and will be difficult for analysis (`purpose` somewhat include the meaning of `title`)<br>\n",
    "`zip_code`, `addr_state`, `earliest_cr_line` are non essential <br>\n",
    "`open_acc`, `revol_util`, `total_acc`, `initial_list_status` can be essential <br>\n",
    "`last_pymnt_d` is non essential <br>\n",
    "`last_credit_pull_d` is essential"
   ]
  },
  {
   "cell_type": "code",
   "execution_count": 781,
   "id": "179166ca",
   "metadata": {
    "scrolled": true
   },
   "outputs": [
    {
     "data": {
      "text/plain": [
       "27"
      ]
     },
     "execution_count": 781,
     "metadata": {},
     "output_type": "execute_result"
    }
   ],
   "source": [
    "df.shape[1]"
   ]
  },
  {
   "cell_type": "markdown",
   "id": "35b07298",
   "metadata": {},
   "source": [
    "Now, lets delete all the non essential columns"
   ]
  },
  {
   "cell_type": "code",
   "execution_count": 782,
   "id": "cc56ad77",
   "metadata": {
    "id": "cc56ad77"
   },
   "outputs": [],
   "source": [
    "# Columns to be deleted\n",
    "columns_to_delete = ['id', 'emp_title', 'emp_length', 'issue_d', \n",
    "                     'url', 'title', 'zip_code', 'addr_state', \n",
    "                     'earliest_cr_line', 'last_pymnt_d']\n",
    "\n",
    "# Dropping the specified columns\n",
    "df.drop(columns=columns_to_delete, inplace=True)"
   ]
  },
  {
   "cell_type": "code",
   "execution_count": 783,
   "id": "0d0a07a0",
   "metadata": {
    "scrolled": true
   },
   "outputs": [
    {
     "data": {
      "text/plain": [
       "17"
      ]
     },
     "execution_count": 783,
     "metadata": {},
     "output_type": "execute_result"
    }
   ],
   "source": [
    "df.shape[1] # total number of columns left after deleting non essential columns"
   ]
  },
  {
   "cell_type": "code",
   "execution_count": 784,
   "id": "a66bf03e",
   "metadata": {},
   "outputs": [
    {
     "data": {
      "text/plain": [
       "['member_id',\n",
       " 'loan_amnt',\n",
       " 'funded_amnt',\n",
       " 'term',\n",
       " 'int_rate',\n",
       " 'installment',\n",
       " 'grade',\n",
       " 'sub_grade',\n",
       " 'home_ownership',\n",
       " 'annual_inc',\n",
       " 'verification_status',\n",
       " 'loan_status',\n",
       " 'purpose',\n",
       " 'open_acc',\n",
       " 'revol_util',\n",
       " 'total_acc',\n",
       " 'last_credit_pull_d']"
      ]
     },
     "execution_count": 784,
     "metadata": {},
     "output_type": "execute_result"
    }
   ],
   "source": [
    "df.columns.tolist()"
   ]
  },
  {
   "cell_type": "code",
   "execution_count": 785,
   "id": "CAvRz16xfFkj",
   "metadata": {
    "id": "CAvRz16xfFkj"
   },
   "outputs": [
    {
     "data": {
      "text/plain": [
       "52"
      ]
     },
     "execution_count": 785,
     "metadata": {},
     "output_type": "execute_result"
    }
   ],
   "source": [
    "df.isnull().sum().sum() # total number of remaining missing data"
   ]
  },
  {
   "cell_type": "markdown",
   "id": "9da7ec20",
   "metadata": {},
   "source": [
    "Finally we have dropped those non essential columns and now we are left with 18 columns <br>\n",
    "But still there are 52 missing values"
   ]
  },
  {
   "cell_type": "code",
   "execution_count": 786,
   "id": "09564bc1",
   "metadata": {
    "id": "09564bc1"
   },
   "outputs": [
    {
     "name": "stdout",
     "output_type": "stream",
     "text": [
      "Columns with null values:\n",
      "['revol_util', 'last_credit_pull_d']\n"
     ]
    }
   ],
   "source": [
    "# Filter for columns with null values\n",
    "columns_with_null_values = null_value_counts[null_value_counts > 0]\n",
    "\n",
    "# Print the column names with null values\n",
    "print(\"Columns with null values:\")\n",
    "print(columns_with_null_values.index.tolist())"
   ]
  },
  {
   "cell_type": "markdown",
   "id": "433a0cef",
   "metadata": {
    "id": "9fxr-5-HiCkE"
   },
   "source": [
    "So, we can see these columns have missing values"
   ]
  },
  {
   "cell_type": "markdown",
   "id": "b5c5b316",
   "metadata": {},
   "source": [
    "Its time for imputation. But, before performing imputation we have to manage data format and types because all the dtypes of variables should be correct to perform imputation"
   ]
  },
  {
   "cell_type": "markdown",
   "id": "757d527b",
   "metadata": {},
   "source": [
    "### Standardizing the data"
   ]
  },
  {
   "cell_type": "code",
   "execution_count": 787,
   "id": "4ab5661b",
   "metadata": {
    "scrolled": false
   },
   "outputs": [
    {
     "data": {
      "text/html": [
       "<div>\n",
       "<style scoped>\n",
       "    .dataframe tbody tr th:only-of-type {\n",
       "        vertical-align: middle;\n",
       "    }\n",
       "\n",
       "    .dataframe tbody tr th {\n",
       "        vertical-align: top;\n",
       "    }\n",
       "\n",
       "    .dataframe thead th {\n",
       "        text-align: right;\n",
       "    }\n",
       "</style>\n",
       "<table border=\"1\" class=\"dataframe\">\n",
       "  <thead>\n",
       "    <tr style=\"text-align: right;\">\n",
       "      <th></th>\n",
       "      <th>member_id</th>\n",
       "      <th>loan_amnt</th>\n",
       "      <th>funded_amnt</th>\n",
       "      <th>term</th>\n",
       "      <th>int_rate</th>\n",
       "      <th>installment</th>\n",
       "      <th>grade</th>\n",
       "      <th>sub_grade</th>\n",
       "      <th>home_ownership</th>\n",
       "      <th>annual_inc</th>\n",
       "      <th>verification_status</th>\n",
       "      <th>loan_status</th>\n",
       "      <th>purpose</th>\n",
       "      <th>open_acc</th>\n",
       "      <th>revol_util</th>\n",
       "      <th>total_acc</th>\n",
       "      <th>last_credit_pull_d</th>\n",
       "    </tr>\n",
       "  </thead>\n",
       "  <tbody>\n",
       "    <tr>\n",
       "      <th>0</th>\n",
       "      <td>1296599</td>\n",
       "      <td>5000</td>\n",
       "      <td>5000</td>\n",
       "      <td>36 months</td>\n",
       "      <td>10.65%</td>\n",
       "      <td>162.87</td>\n",
       "      <td>B</td>\n",
       "      <td>B2</td>\n",
       "      <td>RENT</td>\n",
       "      <td>24000.0</td>\n",
       "      <td>Verified</td>\n",
       "      <td>Fully Paid</td>\n",
       "      <td>credit_card</td>\n",
       "      <td>3</td>\n",
       "      <td>83.70%</td>\n",
       "      <td>9</td>\n",
       "      <td>May-16</td>\n",
       "    </tr>\n",
       "    <tr>\n",
       "      <th>1</th>\n",
       "      <td>1314167</td>\n",
       "      <td>2500</td>\n",
       "      <td>2500</td>\n",
       "      <td>60 months</td>\n",
       "      <td>15.27%</td>\n",
       "      <td>59.83</td>\n",
       "      <td>C</td>\n",
       "      <td>C4</td>\n",
       "      <td>RENT</td>\n",
       "      <td>30000.0</td>\n",
       "      <td>Source Verified</td>\n",
       "      <td>Charged Off</td>\n",
       "      <td>car</td>\n",
       "      <td>3</td>\n",
       "      <td>9.40%</td>\n",
       "      <td>4</td>\n",
       "      <td>Sep-13</td>\n",
       "    </tr>\n",
       "    <tr>\n",
       "      <th>2</th>\n",
       "      <td>1313524</td>\n",
       "      <td>2400</td>\n",
       "      <td>2400</td>\n",
       "      <td>36 months</td>\n",
       "      <td>15.96%</td>\n",
       "      <td>84.33</td>\n",
       "      <td>C</td>\n",
       "      <td>C5</td>\n",
       "      <td>RENT</td>\n",
       "      <td>12252.0</td>\n",
       "      <td>Not Verified</td>\n",
       "      <td>Fully Paid</td>\n",
       "      <td>small_business</td>\n",
       "      <td>2</td>\n",
       "      <td>98.50%</td>\n",
       "      <td>10</td>\n",
       "      <td>May-16</td>\n",
       "    </tr>\n",
       "    <tr>\n",
       "      <th>3</th>\n",
       "      <td>1277178</td>\n",
       "      <td>10000</td>\n",
       "      <td>10000</td>\n",
       "      <td>36 months</td>\n",
       "      <td>13.49%</td>\n",
       "      <td>339.31</td>\n",
       "      <td>C</td>\n",
       "      <td>C1</td>\n",
       "      <td>RENT</td>\n",
       "      <td>49200.0</td>\n",
       "      <td>Source Verified</td>\n",
       "      <td>Fully Paid</td>\n",
       "      <td>other</td>\n",
       "      <td>10</td>\n",
       "      <td>21%</td>\n",
       "      <td>37</td>\n",
       "      <td>Apr-16</td>\n",
       "    </tr>\n",
       "    <tr>\n",
       "      <th>4</th>\n",
       "      <td>1311748</td>\n",
       "      <td>3000</td>\n",
       "      <td>3000</td>\n",
       "      <td>60 months</td>\n",
       "      <td>12.69%</td>\n",
       "      <td>67.79</td>\n",
       "      <td>B</td>\n",
       "      <td>B5</td>\n",
       "      <td>RENT</td>\n",
       "      <td>80000.0</td>\n",
       "      <td>Source Verified</td>\n",
       "      <td>Current</td>\n",
       "      <td>other</td>\n",
       "      <td>15</td>\n",
       "      <td>53.90%</td>\n",
       "      <td>38</td>\n",
       "      <td>May-16</td>\n",
       "    </tr>\n",
       "  </tbody>\n",
       "</table>\n",
       "</div>"
      ],
      "text/plain": [
       "   member_id  loan_amnt  funded_amnt        term int_rate  installment grade  \\\n",
       "0    1296599       5000         5000   36 months   10.65%       162.87     B   \n",
       "1    1314167       2500         2500   60 months   15.27%        59.83     C   \n",
       "2    1313524       2400         2400   36 months   15.96%        84.33     C   \n",
       "3    1277178      10000        10000   36 months   13.49%       339.31     C   \n",
       "4    1311748       3000         3000   60 months   12.69%        67.79     B   \n",
       "\n",
       "  sub_grade home_ownership  annual_inc verification_status  loan_status  \\\n",
       "0        B2           RENT     24000.0            Verified   Fully Paid   \n",
       "1        C4           RENT     30000.0     Source Verified  Charged Off   \n",
       "2        C5           RENT     12252.0        Not Verified   Fully Paid   \n",
       "3        C1           RENT     49200.0     Source Verified   Fully Paid   \n",
       "4        B5           RENT     80000.0     Source Verified      Current   \n",
       "\n",
       "          purpose  open_acc revol_util  total_acc last_credit_pull_d  \n",
       "0     credit_card         3     83.70%          9             May-16  \n",
       "1             car         3      9.40%          4             Sep-13  \n",
       "2  small_business         2     98.50%         10             May-16  \n",
       "3           other        10        21%         37             Apr-16  \n",
       "4           other        15     53.90%         38             May-16  "
      ]
     },
     "execution_count": 787,
     "metadata": {},
     "output_type": "execute_result"
    }
   ],
   "source": [
    "df.head()"
   ]
  },
  {
   "cell_type": "code",
   "execution_count": 788,
   "id": "6fab20c9",
   "metadata": {},
   "outputs": [
    {
     "data": {
      "text/plain": [
       "member_id                int64\n",
       "loan_amnt                int64\n",
       "funded_amnt              int64\n",
       "term                    object\n",
       "int_rate                object\n",
       "installment            float64\n",
       "grade                   object\n",
       "sub_grade               object\n",
       "home_ownership          object\n",
       "annual_inc             float64\n",
       "verification_status     object\n",
       "loan_status             object\n",
       "purpose                 object\n",
       "open_acc                 int64\n",
       "revol_util              object\n",
       "total_acc                int64\n",
       "last_credit_pull_d      object\n",
       "dtype: object"
      ]
     },
     "execution_count": 788,
     "metadata": {},
     "output_type": "execute_result"
    }
   ],
   "source": [
    "df.dtypes"
   ]
  },
  {
   "cell_type": "code",
   "execution_count": 789,
   "id": "a7fd9723",
   "metadata": {},
   "outputs": [],
   "source": [
    "# Converting 'term' to int64\n",
    "df['term'] = df['term'].str.extract('(\\d+)').astype('int64')\n",
    "\n",
    "# Converting 'int_rate' to float\n",
    "df['int_rate'] = df['int_rate'].str.rstrip('%').astype(float)\n",
    "\n",
    "# Converting 'grade' and 'sub_grade' to category\n",
    "df['grade'] = df['grade'].astype('category')\n",
    "df['sub_grade'] = df['sub_grade'].astype('category')\n",
    "\n",
    "# Converting 'home_ownership' to category\n",
    "df['home_ownership'] = df['home_ownership'].astype('category')\n",
    "\n",
    "# Converting 'verification_status' to category\n",
    "df['verification_status'] = df['verification_status'].astype('category')\n",
    "\n",
    "# Converting 'loan_status' to category\n",
    "df['loan_status'] = df['loan_status'].astype('category')\n",
    "\n",
    "# Converting 'purpose' to category\n",
    "df['purpose'] = df['purpose'].astype('category')\n",
    "\n",
    "# Converting 'revol_util' to float\n",
    "df['revol_util'] = df['revol_util'].str.rstrip('%').astype('float')\n",
    "\n",
    "# Converting 'last_credit_pull_d' to datetime\n",
    "df['last_credit_pull_d'] = pd.to_datetime(df['last_credit_pull_d'], format='%b-%y')\n"
   ]
  },
  {
   "cell_type": "code",
   "execution_count": 790,
   "id": "e3a59b6a",
   "metadata": {
    "scrolled": true
   },
   "outputs": [
    {
     "data": {
      "text/plain": [
       "member_id                       int64\n",
       "loan_amnt                       int64\n",
       "funded_amnt                     int64\n",
       "term                            int64\n",
       "int_rate                      float64\n",
       "installment                   float64\n",
       "grade                        category\n",
       "sub_grade                    category\n",
       "home_ownership               category\n",
       "annual_inc                    float64\n",
       "verification_status          category\n",
       "loan_status                  category\n",
       "purpose                      category\n",
       "open_acc                        int64\n",
       "revol_util                    float64\n",
       "total_acc                       int64\n",
       "last_credit_pull_d     datetime64[ns]\n",
       "dtype: object"
      ]
     },
     "execution_count": 790,
     "metadata": {},
     "output_type": "execute_result"
    }
   ],
   "source": [
    "df.dtypes"
   ]
  },
  {
   "cell_type": "markdown",
   "id": "f5f51aad",
   "metadata": {},
   "source": [
    "#### Let's perform imputation on revol_util colum"
   ]
  },
  {
   "cell_type": "code",
   "execution_count": 791,
   "id": "ba96bcae",
   "metadata": {},
   "outputs": [],
   "source": [
    "mean_revol_util = df['revol_util'].mean()\n",
    "df['revol_util'].fillna(mean_revol_util, inplace=True)  # Or median_revol_util"
   ]
  },
  {
   "cell_type": "code",
   "execution_count": 792,
   "id": "c4004c43",
   "metadata": {},
   "outputs": [
    {
     "data": {
      "text/plain": [
       "2"
      ]
     },
     "execution_count": 792,
     "metadata": {},
     "output_type": "execute_result"
    }
   ],
   "source": [
    "df.isnull().sum().sum() # total number of remaining missing data"
   ]
  },
  {
   "cell_type": "markdown",
   "id": "07854324",
   "metadata": {},
   "source": [
    "After imputing missing value in `revol_util` only 2 missing value left <br>\n",
    "It means only last_credit_pull_d is left with 2 missing value <br>\n",
    "Since, last_credit_pull_d is datetime type, it might be little incorrect to impute missing values for it <br>\n",
    "Instead we can drop those two rows having missing values"
   ]
  },
  {
   "cell_type": "code",
   "execution_count": 793,
   "id": "35298314",
   "metadata": {},
   "outputs": [
    {
     "data": {
      "text/plain": [
       "(39717, 17)"
      ]
     },
     "execution_count": 793,
     "metadata": {},
     "output_type": "execute_result"
    }
   ],
   "source": [
    "df.shape"
   ]
  },
  {
   "cell_type": "code",
   "execution_count": 794,
   "id": "8021c9f6",
   "metadata": {},
   "outputs": [],
   "source": [
    "# Dropping rows with missing values\n",
    "df.dropna(inplace=True)"
   ]
  },
  {
   "cell_type": "code",
   "execution_count": 795,
   "id": "a82b594d",
   "metadata": {},
   "outputs": [
    {
     "data": {
      "text/plain": [
       "(39715, 17)"
      ]
     },
     "execution_count": 795,
     "metadata": {},
     "output_type": "execute_result"
    }
   ],
   "source": [
    "df.shape"
   ]
  },
  {
   "cell_type": "code",
   "execution_count": 796,
   "id": "c9c99f75",
   "metadata": {
    "scrolled": true
   },
   "outputs": [
    {
     "name": "stdout",
     "output_type": "stream",
     "text": [
      "Total number of missing values in dataframe: 0\n"
     ]
    }
   ],
   "source": [
    "print(f\"Total number of missing values in dataframe: {df.isna().sum().sum()}\")"
   ]
  },
  {
   "cell_type": "code",
   "execution_count": 797,
   "id": "0cef0126",
   "metadata": {
    "id": "0cef0126"
   },
   "outputs": [
    {
     "data": {
      "text/html": [
       "<div>\n",
       "<style scoped>\n",
       "    .dataframe tbody tr th:only-of-type {\n",
       "        vertical-align: middle;\n",
       "    }\n",
       "\n",
       "    .dataframe tbody tr th {\n",
       "        vertical-align: top;\n",
       "    }\n",
       "\n",
       "    .dataframe thead th {\n",
       "        text-align: right;\n",
       "    }\n",
       "</style>\n",
       "<table border=\"1\" class=\"dataframe\">\n",
       "  <thead>\n",
       "    <tr style=\"text-align: right;\">\n",
       "      <th></th>\n",
       "      <th>member_id</th>\n",
       "      <th>loan_amnt</th>\n",
       "      <th>funded_amnt</th>\n",
       "      <th>term</th>\n",
       "      <th>int_rate</th>\n",
       "      <th>installment</th>\n",
       "      <th>annual_inc</th>\n",
       "      <th>open_acc</th>\n",
       "      <th>revol_util</th>\n",
       "      <th>total_acc</th>\n",
       "    </tr>\n",
       "  </thead>\n",
       "  <tbody>\n",
       "    <tr>\n",
       "      <th>count</th>\n",
       "      <td>3.971500e+04</td>\n",
       "      <td>39715.000000</td>\n",
       "      <td>39715.000000</td>\n",
       "      <td>39715.000000</td>\n",
       "      <td>39715.000000</td>\n",
       "      <td>39715.000000</td>\n",
       "      <td>3.971500e+04</td>\n",
       "      <td>39715.000000</td>\n",
       "      <td>39715.000000</td>\n",
       "      <td>39715.000000</td>\n",
       "    </tr>\n",
       "    <tr>\n",
       "      <th>mean</th>\n",
       "      <td>8.504831e+05</td>\n",
       "      <td>11219.857736</td>\n",
       "      <td>10948.113433</td>\n",
       "      <td>42.418331</td>\n",
       "      <td>12.021323</td>\n",
       "      <td>324.573359</td>\n",
       "      <td>6.896696e+04</td>\n",
       "      <td>9.294599</td>\n",
       "      <td>48.832486</td>\n",
       "      <td>22.088783</td>\n",
       "    </tr>\n",
       "    <tr>\n",
       "      <th>std</th>\n",
       "      <td>2.656635e+05</td>\n",
       "      <td>7456.616797</td>\n",
       "      <td>7187.184321</td>\n",
       "      <td>10.622985</td>\n",
       "      <td>3.724835</td>\n",
       "      <td>208.873382</td>\n",
       "      <td>6.379471e+04</td>\n",
       "      <td>4.400298</td>\n",
       "      <td>28.314156</td>\n",
       "      <td>11.401561</td>\n",
       "    </tr>\n",
       "    <tr>\n",
       "      <th>min</th>\n",
       "      <td>7.069900e+04</td>\n",
       "      <td>500.000000</td>\n",
       "      <td>500.000000</td>\n",
       "      <td>36.000000</td>\n",
       "      <td>5.420000</td>\n",
       "      <td>15.690000</td>\n",
       "      <td>4.000000e+03</td>\n",
       "      <td>2.000000</td>\n",
       "      <td>0.000000</td>\n",
       "      <td>2.000000</td>\n",
       "    </tr>\n",
       "    <tr>\n",
       "      <th>25%</th>\n",
       "      <td>6.667840e+05</td>\n",
       "      <td>5500.000000</td>\n",
       "      <td>5400.000000</td>\n",
       "      <td>36.000000</td>\n",
       "      <td>9.250000</td>\n",
       "      <td>167.035000</td>\n",
       "      <td>4.040200e+04</td>\n",
       "      <td>6.000000</td>\n",
       "      <td>25.500000</td>\n",
       "      <td>13.000000</td>\n",
       "    </tr>\n",
       "    <tr>\n",
       "      <th>50%</th>\n",
       "      <td>8.508290e+05</td>\n",
       "      <td>10000.000000</td>\n",
       "      <td>9600.000000</td>\n",
       "      <td>36.000000</td>\n",
       "      <td>11.860000</td>\n",
       "      <td>280.240000</td>\n",
       "      <td>5.900000e+04</td>\n",
       "      <td>9.000000</td>\n",
       "      <td>49.200000</td>\n",
       "      <td>20.000000</td>\n",
       "    </tr>\n",
       "    <tr>\n",
       "      <th>75%</th>\n",
       "      <td>1.047345e+06</td>\n",
       "      <td>15000.000000</td>\n",
       "      <td>15000.000000</td>\n",
       "      <td>60.000000</td>\n",
       "      <td>14.590000</td>\n",
       "      <td>430.780000</td>\n",
       "      <td>8.229800e+04</td>\n",
       "      <td>12.000000</td>\n",
       "      <td>72.300000</td>\n",
       "      <td>29.000000</td>\n",
       "    </tr>\n",
       "    <tr>\n",
       "      <th>max</th>\n",
       "      <td>1.314167e+06</td>\n",
       "      <td>35000.000000</td>\n",
       "      <td>35000.000000</td>\n",
       "      <td>60.000000</td>\n",
       "      <td>24.590000</td>\n",
       "      <td>1305.190000</td>\n",
       "      <td>6.000000e+06</td>\n",
       "      <td>44.000000</td>\n",
       "      <td>99.900000</td>\n",
       "      <td>90.000000</td>\n",
       "    </tr>\n",
       "  </tbody>\n",
       "</table>\n",
       "</div>"
      ],
      "text/plain": [
       "          member_id     loan_amnt   funded_amnt          term      int_rate  \\\n",
       "count  3.971500e+04  39715.000000  39715.000000  39715.000000  39715.000000   \n",
       "mean   8.504831e+05  11219.857736  10948.113433     42.418331     12.021323   \n",
       "std    2.656635e+05   7456.616797   7187.184321     10.622985      3.724835   \n",
       "min    7.069900e+04    500.000000    500.000000     36.000000      5.420000   \n",
       "25%    6.667840e+05   5500.000000   5400.000000     36.000000      9.250000   \n",
       "50%    8.508290e+05  10000.000000   9600.000000     36.000000     11.860000   \n",
       "75%    1.047345e+06  15000.000000  15000.000000     60.000000     14.590000   \n",
       "max    1.314167e+06  35000.000000  35000.000000     60.000000     24.590000   \n",
       "\n",
       "        installment    annual_inc      open_acc    revol_util     total_acc  \n",
       "count  39715.000000  3.971500e+04  39715.000000  39715.000000  39715.000000  \n",
       "mean     324.573359  6.896696e+04      9.294599     48.832486     22.088783  \n",
       "std      208.873382  6.379471e+04      4.400298     28.314156     11.401561  \n",
       "min       15.690000  4.000000e+03      2.000000      0.000000      2.000000  \n",
       "25%      167.035000  4.040200e+04      6.000000     25.500000     13.000000  \n",
       "50%      280.240000  5.900000e+04      9.000000     49.200000     20.000000  \n",
       "75%      430.780000  8.229800e+04     12.000000     72.300000     29.000000  \n",
       "max     1305.190000  6.000000e+06     44.000000     99.900000     90.000000  "
      ]
     },
     "execution_count": 797,
     "metadata": {},
     "output_type": "execute_result"
    }
   ],
   "source": [
    "df.describe()"
   ]
  },
  {
   "cell_type": "markdown",
   "id": "934990db",
   "metadata": {
    "id": "934990db"
   },
   "source": [
    "#### Cleaning Row"
   ]
  },
  {
   "cell_type": "code",
   "execution_count": 798,
   "id": "197c7a53",
   "metadata": {
    "id": "197c7a53",
    "scrolled": false
   },
   "outputs": [
    {
     "data": {
      "text/plain": [
       "['member_id',\n",
       " 'loan_amnt',\n",
       " 'funded_amnt',\n",
       " 'term',\n",
       " 'int_rate',\n",
       " 'installment',\n",
       " 'grade',\n",
       " 'sub_grade',\n",
       " 'home_ownership',\n",
       " 'annual_inc',\n",
       " 'verification_status',\n",
       " 'loan_status',\n",
       " 'purpose',\n",
       " 'open_acc',\n",
       " 'revol_util',\n",
       " 'total_acc',\n",
       " 'last_credit_pull_d']"
      ]
     },
     "execution_count": 798,
     "metadata": {},
     "output_type": "execute_result"
    }
   ],
   "source": [
    "df.columns.tolist()"
   ]
  },
  {
   "cell_type": "code",
   "execution_count": 799,
   "id": "30c2f037",
   "metadata": {
    "id": "30c2f037"
   },
   "outputs": [
    {
     "data": {
      "text/plain": [
       "(39715, 17)"
      ]
     },
     "execution_count": 799,
     "metadata": {},
     "output_type": "execute_result"
    }
   ],
   "source": [
    "df.shape"
   ]
  },
  {
   "cell_type": "code",
   "execution_count": 800,
   "id": "9240567a",
   "metadata": {
    "id": "9240567a"
   },
   "outputs": [
    {
     "data": {
      "text/plain": [
       "['Fully Paid', 'Charged Off', 'Current']\n",
       "Categories (3, object): ['Charged Off', 'Current', 'Fully Paid']"
      ]
     },
     "execution_count": 800,
     "metadata": {},
     "output_type": "execute_result"
    }
   ],
   "source": [
    "df['loan_status'].unique()"
   ]
  },
  {
   "cell_type": "markdown",
   "id": "8cf9c0c8",
   "metadata": {
    "id": "bd115fc6"
   },
   "source": [
    "We don't need 'Current' because they are neither defaulter nor fully paid customer and they won't be used for our analysis"
   ]
  },
  {
   "cell_type": "code",
   "execution_count": 801,
   "id": "2145f02e",
   "metadata": {
    "id": "2145f02e"
   },
   "outputs": [
    {
     "data": {
      "text/plain": [
       "['Fully Paid', 'Charged Off']\n",
       "Categories (3, object): ['Charged Off', 'Current', 'Fully Paid']"
      ]
     },
     "execution_count": 801,
     "metadata": {},
     "output_type": "execute_result"
    }
   ],
   "source": [
    "# Keeping only 'Fully Paid' and 'Charged Off' loan_status\n",
    "df = df[df['loan_status'] != 'Current']\n",
    "df['loan_status'].unique()"
   ]
  },
  {
   "cell_type": "code",
   "execution_count": 802,
   "id": "c5644a32",
   "metadata": {
    "id": "c5644a32"
   },
   "outputs": [
    {
     "data": {
      "text/plain": [
       "(38575, 17)"
      ]
     },
     "execution_count": 802,
     "metadata": {},
     "output_type": "execute_result"
    }
   ],
   "source": [
    "df.shape"
   ]
  },
  {
   "cell_type": "markdown",
   "id": "c2363389",
   "metadata": {
    "id": "kQ5qPWDwli67"
   },
   "source": [
    "### Outliers treatment"
   ]
  },
  {
   "cell_type": "code",
   "execution_count": 803,
   "id": "40e31b42",
   "metadata": {},
   "outputs": [],
   "source": [
    "# Setting some of the global settings\n",
    "colors = [\"#a9fea9\",\"#fca9a9\"]\n",
    "sns.set(style='whitegrid', palette=sns.color_palette(colors))"
   ]
  },
  {
   "cell_type": "code",
   "execution_count": 804,
   "id": "372fd96b",
   "metadata": {
    "scrolled": false
   },
   "outputs": [
    {
     "data": {
      "text/plain": [
       "<Axes: >"
      ]
     },
     "execution_count": 804,
     "metadata": {},
     "output_type": "execute_result"
    },
    {
     "data": {
      "image/png": "[encoded data removed]",
      "text/plain": [
       "<Figure size 640x480 with 1 Axes>"
      ]
     },
     "metadata": {},
     "output_type": "display_data"
    }
   ],
   "source": [
    "# Ploting boxplot for annual_inc\n",
    "sns.boxplot(df['annual_inc'])"
   ]
  },
  {
   "cell_type": "markdown",
   "id": "98b96abe",
   "metadata": {},
   "source": [
    "#### Clearly indincating the presence of outliers.\n",
    "- So, Removing them.\n",
    "- Let's see the quantile info and take an appropriate action.\n",
    "- The values after 95 percentile seems to be disconected from the general distribution and also there is huge increase in the value for small quantile variation.\n",
    "- So, considering threshold for removing outliers as 0.95"
   ]
  },
  {
   "cell_type": "code",
   "execution_count": 805,
   "id": "eb523049",
   "metadata": {},
   "outputs": [
    {
     "data": {
      "text/plain": [
       "0.50     58852.56\n",
       "0.75     82000.00\n",
       "0.90    115000.00\n",
       "0.95    140004.00\n",
       "0.97    165000.00\n",
       "0.98    187000.00\n",
       "0.99    234156.00\n",
       "Name: annual_inc, dtype: float64"
      ]
     },
     "execution_count": 805,
     "metadata": {},
     "output_type": "execute_result"
    }
   ],
   "source": [
    "quantile_info = df.annual_inc.quantile([0.5, 0.75,0.90, 0.95, 0.97,0.98, 0.99])\n",
    "quantile_info"
   ]
  },
  {
   "cell_type": "code",
   "execution_count": 806,
   "id": "8cc12786",
   "metadata": {},
   "outputs": [],
   "source": [
    "per_95_annual_inc = df['annual_inc'].quantile(0.95)\n",
    "loan = df[df.annual_inc <= per_95_annual_inc]"
   ]
  },
  {
   "cell_type": "code",
   "execution_count": 807,
   "id": "7a2e25ca",
   "metadata": {},
   "outputs": [
    {
     "data": {
      "text/plain": [
       "<Axes: >"
      ]
     },
     "execution_count": 807,
     "metadata": {},
     "output_type": "execute_result"
    },
    {
     "data": {
      "image/png": "[encoded data removed]",
      "text/plain": [
       "<Figure size 640x480 with 1 Axes>"
      ]
     },
     "metadata": {},
     "output_type": "display_data"
    }
   ],
   "source": [
    "sns.boxplot(loan['annual_inc'])"
   ]
  },
  {
   "cell_type": "markdown",
   "id": "0cde5e3a",
   "metadata": {},
   "source": [
    "#### Now the \"annual_inc\" data looks good and proceeding next. Let's analyze other numerical variables which could possibly have outliers.\n",
    "- loan_amnt"
   ]
  },
  {
   "cell_type": "code",
   "execution_count": 808,
   "id": "69eae77c",
   "metadata": {},
   "outputs": [
    {
     "data": {
      "text/plain": [
       "<Axes: >"
      ]
     },
     "execution_count": 808,
     "metadata": {},
     "output_type": "execute_result"
    },
    {
     "data": {
      "image/png": "[encoded data removed]",
      "text/plain": [
       "<Figure size 640x480 with 1 Axes>"
      ]
     },
     "metadata": {},
     "output_type": "display_data"
    }
   ],
   "source": [
    "sns.boxplot(df.loan_amnt)"
   ]
  },
  {
   "cell_type": "code",
   "execution_count": 809,
   "id": "bc88995b",
   "metadata": {
    "scrolled": false
   },
   "outputs": [
    {
     "data": {
      "text/plain": [
       "0.750    15000.0\n",
       "0.900    21600.0\n",
       "0.950    25000.0\n",
       "0.970    28000.0\n",
       "0.975    30000.0\n",
       "0.980    30000.0\n",
       "0.990    35000.0\n",
       "1.000    35000.0\n",
       "Name: loan_amnt, dtype: float64"
      ]
     },
     "execution_count": 809,
     "metadata": {},
     "output_type": "execute_result"
    }
   ],
   "source": [
    "df.loan_amnt.quantile([0.75,0.90,0.95,0.97,0.975, 0.98, 0.99, 1.0])"
   ]
  },
  {
   "cell_type": "markdown",
   "id": "d96cb0bc",
   "metadata": {},
   "source": [
    "Though there are some values far from distribution, the distribution is pretty continousand there is no need to remove outliers / extreme values for these above columns."
   ]
  },
  {
   "cell_type": "markdown",
   "id": "de3a63bb",
   "metadata": {},
   "source": [
    "Outliers treatment seems to be good. And we are good to go for EDA"
   ]
  },
  {
   "cell_type": "code",
   "execution_count": 810,
   "id": "66181d8f",
   "metadata": {},
   "outputs": [],
   "source": [
    "df1 = df.copy()"
   ]
  },
  {
   "cell_type": "markdown",
   "id": "4f43d4aa",
   "metadata": {},
   "source": [
    "## 3. Data analysis"
   ]
  },
  {
   "cell_type": "code",
   "execution_count": 811,
   "id": "a5edd9b4",
   "metadata": {},
   "outputs": [],
   "source": [
    "df['loan_status_num'] = df['loan_status'].apply(lambda x: 0 if x == 'Fully Paid' else 1 if x == 'Charged Off' else -1)"
   ]
  },
  {
   "cell_type": "code",
   "execution_count": 812,
   "id": "fd55a96a",
   "metadata": {},
   "outputs": [
    {
     "data": {
      "text/html": [
       "<div>\n",
       "<style scoped>\n",
       "    .dataframe tbody tr th:only-of-type {\n",
       "        vertical-align: middle;\n",
       "    }\n",
       "\n",
       "    .dataframe tbody tr th {\n",
       "        vertical-align: top;\n",
       "    }\n",
       "\n",
       "    .dataframe thead th {\n",
       "        text-align: right;\n",
       "    }\n",
       "</style>\n",
       "<table border=\"1\" class=\"dataframe\">\n",
       "  <thead>\n",
       "    <tr style=\"text-align: right;\">\n",
       "      <th></th>\n",
       "      <th>member_id</th>\n",
       "      <th>loan_amnt</th>\n",
       "      <th>funded_amnt</th>\n",
       "      <th>term</th>\n",
       "      <th>int_rate</th>\n",
       "      <th>installment</th>\n",
       "      <th>grade</th>\n",
       "      <th>sub_grade</th>\n",
       "      <th>home_ownership</th>\n",
       "      <th>annual_inc</th>\n",
       "      <th>verification_status</th>\n",
       "      <th>loan_status</th>\n",
       "      <th>purpose</th>\n",
       "      <th>open_acc</th>\n",
       "      <th>revol_util</th>\n",
       "      <th>total_acc</th>\n",
       "      <th>last_credit_pull_d</th>\n",
       "      <th>loan_status_num</th>\n",
       "    </tr>\n",
       "  </thead>\n",
       "  <tbody>\n",
       "    <tr>\n",
       "      <th>0</th>\n",
       "      <td>1296599</td>\n",
       "      <td>5000</td>\n",
       "      <td>5000</td>\n",
       "      <td>36</td>\n",
       "      <td>10.65</td>\n",
       "      <td>162.87</td>\n",
       "      <td>B</td>\n",
       "      <td>B2</td>\n",
       "      <td>RENT</td>\n",
       "      <td>24000.0</td>\n",
       "      <td>Verified</td>\n",
       "      <td>Fully Paid</td>\n",
       "      <td>credit_card</td>\n",
       "      <td>3</td>\n",
       "      <td>83.7</td>\n",
       "      <td>9</td>\n",
       "      <td>2016-05-01</td>\n",
       "      <td>0</td>\n",
       "    </tr>\n",
       "    <tr>\n",
       "      <th>1</th>\n",
       "      <td>1314167</td>\n",
       "      <td>2500</td>\n",
       "      <td>2500</td>\n",
       "      <td>60</td>\n",
       "      <td>15.27</td>\n",
       "      <td>59.83</td>\n",
       "      <td>C</td>\n",
       "      <td>C4</td>\n",
       "      <td>RENT</td>\n",
       "      <td>30000.0</td>\n",
       "      <td>Source Verified</td>\n",
       "      <td>Charged Off</td>\n",
       "      <td>car</td>\n",
       "      <td>3</td>\n",
       "      <td>9.4</td>\n",
       "      <td>4</td>\n",
       "      <td>2013-09-01</td>\n",
       "      <td>1</td>\n",
       "    </tr>\n",
       "    <tr>\n",
       "      <th>2</th>\n",
       "      <td>1313524</td>\n",
       "      <td>2400</td>\n",
       "      <td>2400</td>\n",
       "      <td>36</td>\n",
       "      <td>15.96</td>\n",
       "      <td>84.33</td>\n",
       "      <td>C</td>\n",
       "      <td>C5</td>\n",
       "      <td>RENT</td>\n",
       "      <td>12252.0</td>\n",
       "      <td>Not Verified</td>\n",
       "      <td>Fully Paid</td>\n",
       "      <td>small_business</td>\n",
       "      <td>2</td>\n",
       "      <td>98.5</td>\n",
       "      <td>10</td>\n",
       "      <td>2016-05-01</td>\n",
       "      <td>0</td>\n",
       "    </tr>\n",
       "    <tr>\n",
       "      <th>3</th>\n",
       "      <td>1277178</td>\n",
       "      <td>10000</td>\n",
       "      <td>10000</td>\n",
       "      <td>36</td>\n",
       "      <td>13.49</td>\n",
       "      <td>339.31</td>\n",
       "      <td>C</td>\n",
       "      <td>C1</td>\n",
       "      <td>RENT</td>\n",
       "      <td>49200.0</td>\n",
       "      <td>Source Verified</td>\n",
       "      <td>Fully Paid</td>\n",
       "      <td>other</td>\n",
       "      <td>10</td>\n",
       "      <td>21.0</td>\n",
       "      <td>37</td>\n",
       "      <td>2016-04-01</td>\n",
       "      <td>0</td>\n",
       "    </tr>\n",
       "    <tr>\n",
       "      <th>5</th>\n",
       "      <td>1311441</td>\n",
       "      <td>5000</td>\n",
       "      <td>5000</td>\n",
       "      <td>36</td>\n",
       "      <td>7.90</td>\n",
       "      <td>156.46</td>\n",
       "      <td>A</td>\n",
       "      <td>A4</td>\n",
       "      <td>RENT</td>\n",
       "      <td>36000.0</td>\n",
       "      <td>Source Verified</td>\n",
       "      <td>Fully Paid</td>\n",
       "      <td>wedding</td>\n",
       "      <td>9</td>\n",
       "      <td>28.3</td>\n",
       "      <td>12</td>\n",
       "      <td>2016-01-01</td>\n",
       "      <td>0</td>\n",
       "    </tr>\n",
       "  </tbody>\n",
       "</table>\n",
       "</div>"
      ],
      "text/plain": [
       "   member_id  loan_amnt  funded_amnt  term  int_rate  installment grade  \\\n",
       "0    1296599       5000         5000    36     10.65       162.87     B   \n",
       "1    1314167       2500         2500    60     15.27        59.83     C   \n",
       "2    1313524       2400         2400    36     15.96        84.33     C   \n",
       "3    1277178      10000        10000    36     13.49       339.31     C   \n",
       "5    1311441       5000         5000    36      7.90       156.46     A   \n",
       "\n",
       "  sub_grade home_ownership  annual_inc verification_status  loan_status  \\\n",
       "0        B2           RENT     24000.0            Verified   Fully Paid   \n",
       "1        C4           RENT     30000.0     Source Verified  Charged Off   \n",
       "2        C5           RENT     12252.0        Not Verified   Fully Paid   \n",
       "3        C1           RENT     49200.0     Source Verified   Fully Paid   \n",
       "5        A4           RENT     36000.0     Source Verified   Fully Paid   \n",
       "\n",
       "          purpose  open_acc  revol_util  total_acc last_credit_pull_d  \\\n",
       "0     credit_card         3        83.7          9         2016-05-01   \n",
       "1             car         3         9.4          4         2013-09-01   \n",
       "2  small_business         2        98.5         10         2016-05-01   \n",
       "3           other        10        21.0         37         2016-04-01   \n",
       "5         wedding         9        28.3         12         2016-01-01   \n",
       "\n",
       "  loan_status_num  \n",
       "0               0  \n",
       "1               1  \n",
       "2               0  \n",
       "3               0  \n",
       "5               0  "
      ]
     },
     "execution_count": 812,
     "metadata": {},
     "output_type": "execute_result"
    }
   ],
   "source": [
    "df.head()"
   ]
  },
  {
   "cell_type": "code",
   "execution_count": null,
   "id": "97c8dd9f",
   "metadata": {
    "scrolled": true
   },
   "outputs": [],
   "source": []
  },
  {
   "cell_type": "markdown",
   "id": "24c6f6d6",
   "metadata": {},
   "source": [
    "Before starting Analysis lets drop `member_id`"
   ]
  },
  {
   "cell_type": "code",
   "execution_count": 813,
   "id": "c61e056d",
   "metadata": {},
   "outputs": [],
   "source": [
    "df = df.drop('member_id', axis=1)"
   ]
  },
  {
   "cell_type": "code",
   "execution_count": 814,
   "id": "69e49ada",
   "metadata": {
    "scrolled": true
   },
   "outputs": [
    {
     "data": {
      "text/plain": [
       "loan_amnt              0\n",
       "funded_amnt            0\n",
       "term                   0\n",
       "int_rate               0\n",
       "installment            0\n",
       "grade                  0\n",
       "sub_grade              0\n",
       "home_ownership         0\n",
       "annual_inc             0\n",
       "verification_status    0\n",
       "loan_status            0\n",
       "purpose                0\n",
       "open_acc               0\n",
       "revol_util             0\n",
       "total_acc              0\n",
       "last_credit_pull_d     0\n",
       "loan_status_num        0\n",
       "dtype: int64"
      ]
     },
     "execution_count": 814,
     "metadata": {},
     "output_type": "execute_result"
    }
   ],
   "source": [
    "df[df.duplicated()].count()"
   ]
  },
  {
   "cell_type": "markdown",
   "id": "9a184f26",
   "metadata": {},
   "source": [
    "No any data redundancy after deleting `member_id` <br>\n",
    "So we will now proceed with the analysis"
   ]
  },
  {
   "cell_type": "code",
   "execution_count": 815,
   "id": "3085de28",
   "metadata": {},
   "outputs": [
    {
     "data": {
      "text/plain": [
       "['loan_amnt',\n",
       " 'funded_amnt',\n",
       " 'term',\n",
       " 'int_rate',\n",
       " 'installment',\n",
       " 'grade',\n",
       " 'sub_grade',\n",
       " 'home_ownership',\n",
       " 'annual_inc',\n",
       " 'verification_status',\n",
       " 'loan_status',\n",
       " 'purpose',\n",
       " 'open_acc',\n",
       " 'revol_util',\n",
       " 'total_acc',\n",
       " 'last_credit_pull_d',\n",
       " 'loan_status_num']"
      ]
     },
     "execution_count": 815,
     "metadata": {},
     "output_type": "execute_result"
    }
   ],
   "source": [
    "df.columns.tolist()"
   ]
  },
  {
   "cell_type": "markdown",
   "id": "52a21fe1",
   "metadata": {},
   "source": [
    "### a. Univariate Analysis"
   ]
  },
  {
   "cell_type": "code",
   "execution_count": 816,
   "id": "522bf23a",
   "metadata": {
    "scrolled": false
   },
   "outputs": [
    {
     "data": {
      "image/png": "[encoded data removed]",
      "text/plain": [
       "<Figure size 1000x600 with 1 Axes>"
      ]
     },
     "metadata": {},
     "output_type": "display_data"
    }
   ],
   "source": [
    "plt.figure(figsize=(10, 6))\n",
    "sns.histplot(df['loan_amnt'], kde=True, color='skyblue')\n",
    "plt.title('Distribution of Loan Amount')\n",
    "plt.xlabel('Loan Amount')\n",
    "plt.ylabel('Frequency')\n",
    "plt.show()"
   ]
  },
  {
   "cell_type": "code",
   "execution_count": 817,
   "id": "8c75c1d5",
   "metadata": {},
   "outputs": [
    {
     "name": "stdout",
     "output_type": "stream",
     "text": [
      "count    38575.000000\n",
      "mean     11047.442644\n",
      "std       7348.389581\n",
      "min        500.000000\n",
      "25%       5300.000000\n",
      "50%       9600.000000\n",
      "75%      15000.000000\n",
      "max      35000.000000\n",
      "Name: loan_amnt, dtype: float64\n"
     ]
    }
   ],
   "source": [
    "loan_amnt_stats = df['loan_amnt'].describe()\n",
    "print(loan_amnt_stats)"
   ]
  },
  {
   "cell_type": "markdown",
   "id": "b656d4ec",
   "metadata": {},
   "source": [
    "#### Looking at the histogram and the stats data we can come to the following conclusion:\n",
    "- Many customers has taken debt between 5000 to 15000, since histogram has more frequency in that range. And also the mean falls in this range\n",
    "- 25% of customer took loan of 5300\n",
    "- 50% of customer took loan of 9600\n",
    "- 75% of customer took loan of 15000"
   ]
  },
  {
   "cell_type": "code",
   "execution_count": 818,
   "id": "5f4eec6b",
   "metadata": {},
   "outputs": [
    {
     "data": {
      "image/png": "[encoded data removed]",
      "text/plain": [
       "<Figure size 800x500 with 1 Axes>"
      ]
     },
     "metadata": {},
     "output_type": "display_data"
    }
   ],
   "source": [
    "import matplotlib.pyplot as plt\n",
    "\n",
    "plt.figure(figsize=(8, 5))\n",
    "plt.hist(df['int_rate'], bins=20, color='skyblue', edgecolor='black')\n",
    "plt.title('Distribution of Interest Rates')\n",
    "plt.xlabel('Interest Rate (%)')\n",
    "plt.ylabel('Frequency')\n",
    "plt.grid(axis='y', alpha=0.75)\n",
    "\n",
    "plt.show()\n"
   ]
  },
  {
   "cell_type": "code",
   "execution_count": 819,
   "id": "76fab2d3",
   "metadata": {
    "scrolled": true
   },
   "outputs": [
    {
     "data": {
      "text/plain": [
       "11.932364484769929"
      ]
     },
     "execution_count": 819,
     "metadata": {},
     "output_type": "execute_result"
    }
   ],
   "source": [
    "df['int_rate'].mean()"
   ]
  },
  {
   "cell_type": "markdown",
   "id": "296a45d6",
   "metadata": {},
   "source": [
    "#### Interest rate stats concludes:\n",
    "- For most of the users the interest rate was around 12% since mean is 11.9"
   ]
  },
  {
   "cell_type": "code",
   "execution_count": 820,
   "id": "c1784900",
   "metadata": {
    "scrolled": false
   },
   "outputs": [
    {
     "data": {
      "image/png": "[encoded data removed]",
      "text/plain": [
       "<Figure size 800x600 with 1 Axes>"
      ]
     },
     "metadata": {},
     "output_type": "display_data"
    }
   ],
   "source": [
    "import matplotlib.pyplot as plt\n",
    "\n",
    "# Map labels to 0 and 1\n",
    "label_map = {0: \"Non-Defaulters\", 1: \"Defaulters\"}\n",
    "df['loan_status_label'] = df['loan_status_num'].map(label_map)\n",
    "\n",
    "# Create the bar diagram with percentages\n",
    "plt.figure(figsize=(8, 6))\n",
    "ax = sns.countplot(data=df, x='loan_status_label', palette=colors)\n",
    "plt.title(\"Loan Status (Defaulters vs. Non-Defaulters)\")\n",
    "plt.xlabel(\"Loan Status\")\n",
    "plt.ylabel(\"Count\")\n",
    "total = len(df['loan_status_label'])\n",
    "for p in ax.patches:\n",
    "    percentage = '{:.1f}%'.format(100 * p.get_height() / total)\n",
    "    x = p.get_x() + p.get_width() / 2 - 0.1\n",
    "    y = p.get_height() + 50\n",
    "    ax.annotate(percentage, (x, y), fontsize=12)\n",
    "plt.show()\n"
   ]
  },
  {
   "cell_type": "markdown",
   "id": "83b247b5",
   "metadata": {},
   "source": [
    "#### Loan Status concludes:\n",
    "- Almost 15 % of the customers were defaulter and 85% weren't"
   ]
  },
  {
   "cell_type": "code",
   "execution_count": 821,
   "id": "45e47a73",
   "metadata": {},
   "outputs": [
    {
     "data": {
      "text/plain": [
       "CategoricalDtype(categories=[1, -1, 0], ordered=False)"
      ]
     },
     "execution_count": 821,
     "metadata": {},
     "output_type": "execute_result"
    }
   ],
   "source": [
    "df['loan_status_num'].dtype"
   ]
  },
  {
   "cell_type": "markdown",
   "id": "5909b469",
   "metadata": {},
   "source": [
    "### b. Segmented Univariate Analysis"
   ]
  },
  {
   "cell_type": "code",
   "execution_count": 822,
   "id": "2ae2b64b",
   "metadata": {},
   "outputs": [
    {
     "data": {
      "text/plain": [
       "<Figure size 1000x600 with 0 Axes>"
      ]
     },
     "metadata": {},
     "output_type": "display_data"
    },
    {
     "data": {
      "image/png": "[encoded data removed]",
      "text/plain": [
       "<Figure size 640x480 with 1 Axes>"
      ]
     },
     "metadata": {},
     "output_type": "display_data"
    }
   ],
   "source": [
    "# Define the loan amount ranges\n",
    "loan_ranges = [0, 5000, 10000, 15000, 20000, 25000, 30000, 35000]\n",
    "\n",
    "# Create labels for the loan amount ranges\n",
    "labels = ['0-4999', '5000-9999', '10000-14999', '15000-19999', '20000-24999', '25000-29999', '30000-35000']\n",
    "\n",
    "# Create a new column 'loan_amnt_range' to represent the loan amount ranges\n",
    "df['loan_amnt_range'] = pd.cut(df['loan_amnt'], bins=loan_ranges, labels=labels)\n",
    "\n",
    "# Calculate the default rates for each loan amount range based on counts\n",
    "default_rates = df.groupby('loan_amnt_range')['loan_status_num'].value_counts(normalize=True).unstack().fillna(0)\n",
    "\n",
    "# Plot a bar chart to visualize default rates\n",
    "plt.figure(figsize=(10, 6))\n",
    "default_rates.plot(kind='bar', stacked=True)\n",
    "plt.title('Default Rates by Loan Amount Range')\n",
    "plt.xlabel('Loan Amount Range')\n",
    "plt.ylabel('Default Rate')\n",
    "plt.xticks(rotation=45)\n",
    "plt.legend(['Non-Defaulters', 'Defaulters'])\n",
    "plt.show()"
   ]
  },
  {
   "cell_type": "markdown",
   "id": "64ac5ea2",
   "metadata": {},
   "source": [
    "#### Default Rates by Loan Amount Range concludes:\n",
    "- The customer taking high number of loan are more likely to default"
   ]
  }
 ],
 "metadata": {
  "colab": {
   "collapsed_sections": [
    "ANNzunYWIsjh",
    "y8Xy30lDN-P9",
    "l_7LDA_dI_6R",
    "TxJN4WezWXiG",
    "MnfAKeCPJW44",
    "2Hrr7m804OYg",
    "DZmDPbJiexOf",
    "Wa-mlH6iw-4H",
    "jJETaHE27wnL"
   ],
   "provenance": []
  },
  "kernelspec": {
   "display_name": "Python 3 (ipykernel)",
   "language": "python",
   "name": "python3"
  },
  "language_info": {
   "codemirror_mode": {
    "name": "ipython",
    "version": 3
   },
   "file_extension": ".py",
   "mimetype": "text/x-python",
   "name": "python",
   "nbconvert_exporter": "python",
   "pygments_lexer": "ipython3",
   "version": "3.10.9"
  }
 },
 "nbformat": 4,
 "nbformat_minor": 5
}
